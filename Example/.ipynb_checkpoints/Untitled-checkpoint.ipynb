{
 "cells": [
  {
   "cell_type": "code",
   "execution_count": null,
   "metadata": {},
   "outputs": [],
   "source": [
    "import pandas as pd\n",
    "from sklearn.decomposition import PCA\n",
    "\n",
    "# load data\n",
    "df = pd.DataFrame()\n",
    "# normalize data\n",
    "from sklearn import preprocessing\n",
    "data_scaled = pd.DataFrame(preprocessing.scale(df),columns = df.columns) \n",
    "\n",
    "# PCA\n",
    "pca = PCA(n_components=2) #HOW MANY AXIS DO WE WANT\n",
    "pca.fit_transform(data_scaled)\n",
    "\n",
    "# TABLE WITH COMBINATIONS OF OLD FEATURES\n",
    "print pd.DataFrame(pca.components_,columns=data_scaled.columns,index = ['PC-1','PC-2']) #NUM INDEX EQUAL TO ALALALALAALL"
   ]
  }
 ],
 "metadata": {
  "kernelspec": {
   "display_name": "Python 3",
   "language": "python",
   "name": "python3"
  },
  "language_info": {
   "codemirror_mode": {
    "name": "ipython",
    "version": 3
   },
   "file_extension": ".py",
   "mimetype": "text/x-python",
   "name": "python",
   "nbconvert_exporter": "python",
   "pygments_lexer": "ipython3",
   "version": "3.6.5"
  }
 },
 "nbformat": 4,
 "nbformat_minor": 2
}
