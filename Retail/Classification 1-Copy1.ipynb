{
 "cells": [
  {
   "cell_type": "code",
   "execution_count": 33,
   "metadata": {},
   "outputs": [
    {
     "name": "stdout",
     "output_type": "stream",
     "text": [
      "Populating the interactive namespace from numpy and matplotlib\n"
     ]
    },
    {
     "data": {
      "text/html": [
       "<style>.container{width:90% !important;}</style>"
      ],
      "text/plain": [
       "<IPython.core.display.HTML object>"
      ]
     },
     "metadata": {},
     "output_type": "display_data"
    }
   ],
   "source": [
    "import numpy as np; import pandas as pd; import pyodbc; import datetime; import sklearn; import os; import math\n",
    "from sklearn.feature_selection import chi2, f_classif, SelectKBest\n",
    "from sklearn.preprocessing import StandardScaler\n",
    "from sklearn.cluster import KMeans\n",
    "from sklearn.metrics import roc_auc_score\n",
    "from sklearn import preprocessing\n",
    "import xgboost as xgb\n",
    "from sklearn.cross_validation import StratifiedKFold\n",
    "from sklearn.model_selection import GridSearchCV, RandomizedSearchCV\n",
    "from sklearn import metrics\n",
    "from sklearn.random_projection import GaussianRandomProjection\n",
    "from sklearn.random_projection import SparseRandomProjection\n",
    "from sklearn.decomposition import PCA, FastICA\n",
    "from sklearn.decomposition import TruncatedSVD\n",
    "%pylab inline \n",
    "import sys\n",
    "import warnings\n",
    "\n",
    "if not sys.warnoptions:\n",
    "    warnings.simplefilter(\"ignore\")\n",
    "    \n",
    "from IPython.core.display import display,HTML\n",
    "display(HTML(\"<style>.container{width:90% !important;}</style>\"))\n",
    "\n",
    "conn = pyodbc.connect(r'DRIVER={SQL Server Native Client 11.0};'r'SERVER=WIN-5G5AUOCEJPK;'r'DATABASE=Gold585;'r'Trusted_Connection=yes;')"
   ]
  },
  {
   "cell_type": "code",
   "execution_count": 8,
   "metadata": {},
   "outputs": [],
   "source": [
    "sql_query =\"SELECT [PurchaseDate] \\\n",
    "      ,MONTH(GETDATE()) MesPrognoza\\\n",
    "      ,[PartnerID] \\\n",
    "      ,IIF(DATEDIFF(YEAR,[BirthDate],GETDATE())> 100 , 0 , DATEDIFF(YEAR,[BirthDate],GETDATE())) Age \\\n",
    "      ,IIF(SEX='M',1,0) SEX \\\n",
    "      ,CityID \\\n",
    "      ,SMS \\\n",
    "      ,SUMSMS \\\n",
    "      ,SumQuantity \\\n",
    "      ,[PurchaseCode] \\\n",
    "      ,[SummaAfterDiscount] \\\n",
    "      ,[FirstVisit] \\\n",
    "      ,DATEDIFF(DAY,[FirstVisit],GETDATE())/30.0 LT_M \\\n",
    "      ,DATEDIFF(DAY,[FirstVisit],GETDATE())/30.0 LastVisit_M \\\n",
    "      ,[NEXTDate] \\\n",
    "      ,DATEDIFF(DAY,GETDATE(),NEXTDate) PridetCherez \\\n",
    "      ,IIF(DATEDIFF(DAY,GETDATE(),NEXTDate)<=31,1,0) PridetCherez_M \\\n",
    "      ,IIF(NEXTDate IS NULL,1,0) Ottok \\\n",
    "      ,[GodNazad] \\\n",
    "      ,[QNTVisits] \\\n",
    "      ,[SUMM1] \\\n",
    "      ,[SUMM2] \\\n",
    "      ,[SUMM3] \\\n",
    "      ,[SUMM4] \\\n",
    "      ,[SUMM5] \\\n",
    "      ,[SUMM6] \\\n",
    "      ,[SUMM7] \\\n",
    "      ,[SUMM8] \\\n",
    "      ,[SUMM9] \\\n",
    "      ,[SUMM10] \\\n",
    "      ,[SUMM11] \\\n",
    "      ,[SUMM12] \\\n",
    "      ,[SumSumma] \\\n",
    "      ,[AVGSumma] \\\n",
    "      ,[SUMP1k] \\\n",
    "      ,[SUMP3k] \\\n",
    "      ,[SUMP6k] \\\n",
    "      ,[SUMP12k] \\\n",
    "      ,[SUMP50k] \\\n",
    "      ,[PriceGroup] \\\n",
    "      ,[MaterialID] \\\n",
    "      ,[Name] \\\n",
    "      ,[GroupID] \\\n",
    "      ,[CollectionID] \\\n",
    "      ,[SUMKolco] \\\n",
    "      ,[SUMSERGI] \\\n",
    "      ,[SUMPPODVES] \\\n",
    "      ,[SUMCEP] \\\n",
    "      ,[SUMBRASLET] \\\n",
    "      ,[SUMKOLE] \\\n",
    "      ,[WearType] \\\n",
    "      ,[SUMCheap] \\\n",
    "      ,[SUMExpensive] \\\n",
    "      ,[SUMPremium] \\\n",
    "      ,[SUMMiddle] \\\n",
    "      ,[PriceSegment] \\\n",
    "      ,[SUMZoloto] \\\n",
    "      ,[SUMSerebro] \\\n",
    "      ,[Metal] \\\n",
    "      ,[SUMColorBlack] \\\n",
    "      ,[SUMColorRed] \\\n",
    "      ,[SUMColorYellow] \\\n",
    "      ,[SUMColorWhite] \\\n",
    "      ,[SUMColor3] \\\n",
    "      ,[SUMColor2] \\\n",
    "      ,[MetalColor] \\\n",
    "      ,[SUMGroupBaza] \\\n",
    "      ,[SUMGroupClassic] \\\n",
    "      ,[SUMGroupModa] \\\n",
    "      ,[SUMGroupModul] \\\n",
    "      ,[SUMGroupSouvenir] \\\n",
    "      ,[SUMGroupTrend]  \\\n",
    "      ,[StylisticGroup] \\\n",
    "  FROM [Gold585].[dbo].[ForPredict] \\\n",
    "  WHERE [Metal] in ('ЗОЛОТО','СЕРЕБРО') and QNTVisits <= 2\"\n",
    "\n",
    "df = pd.read_sql(sql_query,conn)"
   ]
  },
  {
   "cell_type": "code",
   "execution_count": 9,
   "metadata": {},
   "outputs": [
    {
     "data": {
      "text/html": [
       "<div>\n",
       "<style scoped>\n",
       "    .dataframe tbody tr th:only-of-type {\n",
       "        vertical-align: middle;\n",
       "    }\n",
       "\n",
       "    .dataframe tbody tr th {\n",
       "        vertical-align: top;\n",
       "    }\n",
       "\n",
       "    .dataframe thead th {\n",
       "        text-align: right;\n",
       "    }\n",
       "</style>\n",
       "<table border=\"1\" class=\"dataframe\">\n",
       "  <thead>\n",
       "    <tr style=\"text-align: right;\">\n",
       "      <th></th>\n",
       "      <th>PurchaseDate</th>\n",
       "      <th>MesPrognoza</th>\n",
       "      <th>PartnerID</th>\n",
       "      <th>Age</th>\n",
       "      <th>SEX</th>\n",
       "      <th>CityID</th>\n",
       "      <th>SMS</th>\n",
       "      <th>SUMSMS</th>\n",
       "      <th>SumQuantity</th>\n",
       "      <th>PurchaseCode</th>\n",
       "      <th>...</th>\n",
       "      <th>SUMColor3</th>\n",
       "      <th>SUMColor2</th>\n",
       "      <th>MetalColor</th>\n",
       "      <th>SUMGroupBaza</th>\n",
       "      <th>SUMGroupClassic</th>\n",
       "      <th>SUMGroupModa</th>\n",
       "      <th>SUMGroupModul</th>\n",
       "      <th>SUMGroupSouvenir</th>\n",
       "      <th>SUMGroupTrend</th>\n",
       "      <th>StylisticGroup</th>\n",
       "    </tr>\n",
       "  </thead>\n",
       "  <tbody>\n",
       "    <tr>\n",
       "      <th>0</th>\n",
       "      <td>2015-05-15</td>\n",
       "      <td>10</td>\n",
       "      <td>1690104</td>\n",
       "      <td>44</td>\n",
       "      <td>0</td>\n",
       "      <td>92</td>\n",
       "      <td>0</td>\n",
       "      <td>0.0</td>\n",
       "      <td>2.0</td>\n",
       "      <td>1084690754</td>\n",
       "      <td>...</td>\n",
       "      <td>0.0</td>\n",
       "      <td>0.0</td>\n",
       "      <td>КРАСНЫЙ</td>\n",
       "      <td>1.0</td>\n",
       "      <td>1.0</td>\n",
       "      <td>0.0</td>\n",
       "      <td>0.0</td>\n",
       "      <td>0.0</td>\n",
       "      <td>0.0</td>\n",
       "      <td>КЛАССИКА</td>\n",
       "    </tr>\n",
       "    <tr>\n",
       "      <th>1</th>\n",
       "      <td>2017-12-29</td>\n",
       "      <td>10</td>\n",
       "      <td>5625439</td>\n",
       "      <td>46</td>\n",
       "      <td>1</td>\n",
       "      <td>74</td>\n",
       "      <td>0</td>\n",
       "      <td>NaN</td>\n",
       "      <td>NaN</td>\n",
       "      <td>1196460805</td>\n",
       "      <td>...</td>\n",
       "      <td>NaN</td>\n",
       "      <td>NaN</td>\n",
       "      <td>ЖЕЛТЫЙ</td>\n",
       "      <td>NaN</td>\n",
       "      <td>NaN</td>\n",
       "      <td>NaN</td>\n",
       "      <td>NaN</td>\n",
       "      <td>NaN</td>\n",
       "      <td>NaN</td>\n",
       "      <td>КЛАССИКА</td>\n",
       "    </tr>\n",
       "    <tr>\n",
       "      <th>2</th>\n",
       "      <td>2017-10-22</td>\n",
       "      <td>10</td>\n",
       "      <td>5245334</td>\n",
       "      <td>29</td>\n",
       "      <td>1</td>\n",
       "      <td>123</td>\n",
       "      <td>0</td>\n",
       "      <td>NaN</td>\n",
       "      <td>NaN</td>\n",
       "      <td>1185254079</td>\n",
       "      <td>...</td>\n",
       "      <td>NaN</td>\n",
       "      <td>NaN</td>\n",
       "      <td>КРАСНЫЙ</td>\n",
       "      <td>NaN</td>\n",
       "      <td>NaN</td>\n",
       "      <td>NaN</td>\n",
       "      <td>NaN</td>\n",
       "      <td>NaN</td>\n",
       "      <td>NaN</td>\n",
       "      <td>КЛАССИКА</td>\n",
       "    </tr>\n",
       "    <tr>\n",
       "      <th>3</th>\n",
       "      <td>2017-09-09</td>\n",
       "      <td>10</td>\n",
       "      <td>3219671</td>\n",
       "      <td>0</td>\n",
       "      <td>0</td>\n",
       "      <td>21</td>\n",
       "      <td>0</td>\n",
       "      <td>0.0</td>\n",
       "      <td>1.0</td>\n",
       "      <td>1177805668</td>\n",
       "      <td>...</td>\n",
       "      <td>0.0</td>\n",
       "      <td>0.0</td>\n",
       "      <td>БЕЛЫЙ</td>\n",
       "      <td>1.0</td>\n",
       "      <td>0.0</td>\n",
       "      <td>0.0</td>\n",
       "      <td>0.0</td>\n",
       "      <td>0.0</td>\n",
       "      <td>0.0</td>\n",
       "      <td>БАЗА</td>\n",
       "    </tr>\n",
       "    <tr>\n",
       "      <th>4</th>\n",
       "      <td>2014-12-31</td>\n",
       "      <td>10</td>\n",
       "      <td>1510435</td>\n",
       "      <td>57</td>\n",
       "      <td>0</td>\n",
       "      <td>92</td>\n",
       "      <td>0</td>\n",
       "      <td>NaN</td>\n",
       "      <td>NaN</td>\n",
       "      <td>989627117</td>\n",
       "      <td>...</td>\n",
       "      <td>NaN</td>\n",
       "      <td>NaN</td>\n",
       "      <td>КРАСНЫЙ</td>\n",
       "      <td>NaN</td>\n",
       "      <td>NaN</td>\n",
       "      <td>NaN</td>\n",
       "      <td>NaN</td>\n",
       "      <td>NaN</td>\n",
       "      <td>NaN</td>\n",
       "      <td>КЛАССИКА</td>\n",
       "    </tr>\n",
       "  </tbody>\n",
       "</table>\n",
       "<p>5 rows × 73 columns</p>\n",
       "</div>"
      ],
      "text/plain": [
       "  PurchaseDate  MesPrognoza PartnerID  Age  SEX  CityID  SMS  SUMSMS  \\\n",
       "0   2015-05-15           10   1690104   44    0      92    0     0.0   \n",
       "1   2017-12-29           10   5625439   46    1      74    0     NaN   \n",
       "2   2017-10-22           10   5245334   29    1     123    0     NaN   \n",
       "3   2017-09-09           10   3219671    0    0      21    0     0.0   \n",
       "4   2014-12-31           10   1510435   57    0      92    0     NaN   \n",
       "\n",
       "   SumQuantity PurchaseCode       ...        SUMColor3 SUMColor2  MetalColor  \\\n",
       "0          2.0   1084690754       ...              0.0       0.0     КРАСНЫЙ   \n",
       "1          NaN   1196460805       ...              NaN       NaN      ЖЕЛТЫЙ   \n",
       "2          NaN   1185254079       ...              NaN       NaN     КРАСНЫЙ   \n",
       "3          1.0   1177805668       ...              0.0       0.0       БЕЛЫЙ   \n",
       "4          NaN    989627117       ...              NaN       NaN     КРАСНЫЙ   \n",
       "\n",
       "   SUMGroupBaza SUMGroupClassic  SUMGroupModa  SUMGroupModul  \\\n",
       "0           1.0             1.0           0.0            0.0   \n",
       "1           NaN             NaN           NaN            NaN   \n",
       "2           NaN             NaN           NaN            NaN   \n",
       "3           1.0             0.0           0.0            0.0   \n",
       "4           NaN             NaN           NaN            NaN   \n",
       "\n",
       "   SUMGroupSouvenir  SUMGroupTrend  StylisticGroup  \n",
       "0               0.0            0.0        КЛАССИКА  \n",
       "1               NaN            NaN        КЛАССИКА  \n",
       "2               NaN            NaN        КЛАССИКА  \n",
       "3               0.0            0.0            БАЗА  \n",
       "4               NaN            NaN        КЛАССИКА  \n",
       "\n",
       "[5 rows x 73 columns]"
      ]
     },
     "execution_count": 9,
     "metadata": {},
     "output_type": "execute_result"
    }
   ],
   "source": [
    "df.head()"
   ]
  },
  {
   "cell_type": "code",
   "execution_count": 10,
   "metadata": {},
   "outputs": [
    {
     "data": {
      "text/plain": [
       "Index(['PurchaseDate', 'MesPrognoza', 'PartnerID', 'Age', 'SEX', 'CityID',\n",
       "       'SMS', 'SUMSMS', 'SumQuantity', 'PurchaseCode', 'SummaAfterDiscount',\n",
       "       'FirstVisit', 'LT_M', 'LastVisit_M', 'NEXTDate', 'PridetCherez',\n",
       "       'PridetCherez_M', 'Ottok', 'GodNazad', 'QNTVisits', 'SUMM1', 'SUMM2',\n",
       "       'SUMM3', 'SUMM4', 'SUMM5', 'SUMM6', 'SUMM7', 'SUMM8', 'SUMM9', 'SUMM10',\n",
       "       'SUMM11', 'SUMM12', 'SumSumma', 'AVGSumma', 'SUMP1k', 'SUMP3k',\n",
       "       'SUMP6k', 'SUMP12k', 'SUMP50k', 'PriceGroup', 'MaterialID', 'Name',\n",
       "       'GroupID', 'CollectionID', 'SUMKolco', 'SUMSERGI', 'SUMPPODVES',\n",
       "       'SUMCEP', 'SUMBRASLET', 'SUMKOLE', 'WearType', 'SUMCheap',\n",
       "       'SUMExpensive', 'SUMPremium', 'SUMMiddle', 'PriceSegment', 'SUMZoloto',\n",
       "       'SUMSerebro', 'Metal', 'SUMColorBlack', 'SUMColorRed', 'SUMColorYellow',\n",
       "       'SUMColorWhite', 'SUMColor3', 'SUMColor2', 'MetalColor', 'SUMGroupBaza',\n",
       "       'SUMGroupClassic', 'SUMGroupModa', 'SUMGroupModul', 'SUMGroupSouvenir',\n",
       "       'SUMGroupTrend', 'StylisticGroup'],\n",
       "      dtype='object')"
      ]
     },
     "execution_count": 10,
     "metadata": {},
     "output_type": "execute_result"
    }
   ],
   "source": [
    "df.columns"
   ]
  },
  {
   "cell_type": "code",
   "execution_count": 11,
   "metadata": {},
   "outputs": [],
   "source": [
    "#Прогнозируем металл\n",
    "data1 = df.copy()"
   ]
  },
  {
   "cell_type": "code",
   "execution_count": 12,
   "metadata": {},
   "outputs": [],
   "source": [
    "data1.drop(['MesPrognoza','PurchaseDate','PurchaseCode','SummaAfterDiscount','FirstVisit','NEXTDate',\n",
    "       'PridetCherez', 'PridetCherez_M', 'Ottok','PriceGroup', 'MaterialID',\n",
    "       'Name', 'GroupID', 'CollectionID','WearType','PriceSegment', 'MetalColor','StylisticGroup'],axis=1,inplace=True)"
   ]
  },
  {
   "cell_type": "code",
   "execution_count": 13,
   "metadata": {},
   "outputs": [
    {
     "data": {
      "text/html": [
       "<div>\n",
       "<style scoped>\n",
       "    .dataframe tbody tr th:only-of-type {\n",
       "        vertical-align: middle;\n",
       "    }\n",
       "\n",
       "    .dataframe tbody tr th {\n",
       "        vertical-align: top;\n",
       "    }\n",
       "\n",
       "    .dataframe thead th {\n",
       "        text-align: right;\n",
       "    }\n",
       "</style>\n",
       "<table border=\"1\" class=\"dataframe\">\n",
       "  <thead>\n",
       "    <tr style=\"text-align: right;\">\n",
       "      <th></th>\n",
       "      <th>PartnerID</th>\n",
       "      <th>Age</th>\n",
       "      <th>SEX</th>\n",
       "      <th>CityID</th>\n",
       "      <th>SMS</th>\n",
       "      <th>SUMSMS</th>\n",
       "      <th>SumQuantity</th>\n",
       "      <th>LT_M</th>\n",
       "      <th>LastVisit_M</th>\n",
       "      <th>GodNazad</th>\n",
       "      <th>...</th>\n",
       "      <th>SUMColorYellow</th>\n",
       "      <th>SUMColorWhite</th>\n",
       "      <th>SUMColor3</th>\n",
       "      <th>SUMColor2</th>\n",
       "      <th>SUMGroupBaza</th>\n",
       "      <th>SUMGroupClassic</th>\n",
       "      <th>SUMGroupModa</th>\n",
       "      <th>SUMGroupModul</th>\n",
       "      <th>SUMGroupSouvenir</th>\n",
       "      <th>SUMGroupTrend</th>\n",
       "    </tr>\n",
       "  </thead>\n",
       "  <tbody>\n",
       "    <tr>\n",
       "      <th>0</th>\n",
       "      <td>1690104</td>\n",
       "      <td>44</td>\n",
       "      <td>0</td>\n",
       "      <td>92</td>\n",
       "      <td>0</td>\n",
       "      <td>0.0</td>\n",
       "      <td>2.0</td>\n",
       "      <td>42.133333</td>\n",
       "      <td>42.133333</td>\n",
       "      <td>0.0</td>\n",
       "      <td>...</td>\n",
       "      <td>0.0</td>\n",
       "      <td>0.0</td>\n",
       "      <td>0.0</td>\n",
       "      <td>0.0</td>\n",
       "      <td>1.0</td>\n",
       "      <td>1.0</td>\n",
       "      <td>0.0</td>\n",
       "      <td>0.0</td>\n",
       "      <td>0.0</td>\n",
       "      <td>0.0</td>\n",
       "    </tr>\n",
       "    <tr>\n",
       "      <th>1</th>\n",
       "      <td>5625439</td>\n",
       "      <td>46</td>\n",
       "      <td>1</td>\n",
       "      <td>74</td>\n",
       "      <td>0</td>\n",
       "      <td>NaN</td>\n",
       "      <td>NaN</td>\n",
       "      <td>NaN</td>\n",
       "      <td>NaN</td>\n",
       "      <td>0.0</td>\n",
       "      <td>...</td>\n",
       "      <td>NaN</td>\n",
       "      <td>NaN</td>\n",
       "      <td>NaN</td>\n",
       "      <td>NaN</td>\n",
       "      <td>NaN</td>\n",
       "      <td>NaN</td>\n",
       "      <td>NaN</td>\n",
       "      <td>NaN</td>\n",
       "      <td>NaN</td>\n",
       "      <td>NaN</td>\n",
       "    </tr>\n",
       "    <tr>\n",
       "      <th>2</th>\n",
       "      <td>5245334</td>\n",
       "      <td>29</td>\n",
       "      <td>1</td>\n",
       "      <td>123</td>\n",
       "      <td>0</td>\n",
       "      <td>NaN</td>\n",
       "      <td>NaN</td>\n",
       "      <td>NaN</td>\n",
       "      <td>NaN</td>\n",
       "      <td>0.0</td>\n",
       "      <td>...</td>\n",
       "      <td>NaN</td>\n",
       "      <td>NaN</td>\n",
       "      <td>NaN</td>\n",
       "      <td>NaN</td>\n",
       "      <td>NaN</td>\n",
       "      <td>NaN</td>\n",
       "      <td>NaN</td>\n",
       "      <td>NaN</td>\n",
       "      <td>NaN</td>\n",
       "      <td>NaN</td>\n",
       "    </tr>\n",
       "    <tr>\n",
       "      <th>3</th>\n",
       "      <td>3219671</td>\n",
       "      <td>0</td>\n",
       "      <td>0</td>\n",
       "      <td>21</td>\n",
       "      <td>0</td>\n",
       "      <td>0.0</td>\n",
       "      <td>1.0</td>\n",
       "      <td>17.066666</td>\n",
       "      <td>17.066666</td>\n",
       "      <td>0.0</td>\n",
       "      <td>...</td>\n",
       "      <td>0.0</td>\n",
       "      <td>1.0</td>\n",
       "      <td>0.0</td>\n",
       "      <td>0.0</td>\n",
       "      <td>1.0</td>\n",
       "      <td>0.0</td>\n",
       "      <td>0.0</td>\n",
       "      <td>0.0</td>\n",
       "      <td>0.0</td>\n",
       "      <td>0.0</td>\n",
       "    </tr>\n",
       "    <tr>\n",
       "      <th>4</th>\n",
       "      <td>1510435</td>\n",
       "      <td>57</td>\n",
       "      <td>0</td>\n",
       "      <td>92</td>\n",
       "      <td>0</td>\n",
       "      <td>NaN</td>\n",
       "      <td>NaN</td>\n",
       "      <td>NaN</td>\n",
       "      <td>NaN</td>\n",
       "      <td>0.0</td>\n",
       "      <td>...</td>\n",
       "      <td>NaN</td>\n",
       "      <td>NaN</td>\n",
       "      <td>NaN</td>\n",
       "      <td>NaN</td>\n",
       "      <td>NaN</td>\n",
       "      <td>NaN</td>\n",
       "      <td>NaN</td>\n",
       "      <td>NaN</td>\n",
       "      <td>NaN</td>\n",
       "      <td>NaN</td>\n",
       "    </tr>\n",
       "  </tbody>\n",
       "</table>\n",
       "<p>5 rows × 55 columns</p>\n",
       "</div>"
      ],
      "text/plain": [
       "  PartnerID  Age  SEX  CityID  SMS  SUMSMS  SumQuantity       LT_M  \\\n",
       "0   1690104   44    0      92    0     0.0          2.0  42.133333   \n",
       "1   5625439   46    1      74    0     NaN          NaN        NaN   \n",
       "2   5245334   29    1     123    0     NaN          NaN        NaN   \n",
       "3   3219671    0    0      21    0     0.0          1.0  17.066666   \n",
       "4   1510435   57    0      92    0     NaN          NaN        NaN   \n",
       "\n",
       "   LastVisit_M  GodNazad      ...        SUMColorYellow  SUMColorWhite  \\\n",
       "0    42.133333       0.0      ...                   0.0            0.0   \n",
       "1          NaN       0.0      ...                   NaN            NaN   \n",
       "2          NaN       0.0      ...                   NaN            NaN   \n",
       "3    17.066666       0.0      ...                   0.0            1.0   \n",
       "4          NaN       0.0      ...                   NaN            NaN   \n",
       "\n",
       "   SUMColor3  SUMColor2  SUMGroupBaza  SUMGroupClassic  SUMGroupModa  \\\n",
       "0        0.0        0.0           1.0              1.0           0.0   \n",
       "1        NaN        NaN           NaN              NaN           NaN   \n",
       "2        NaN        NaN           NaN              NaN           NaN   \n",
       "3        0.0        0.0           1.0              0.0           0.0   \n",
       "4        NaN        NaN           NaN              NaN           NaN   \n",
       "\n",
       "   SUMGroupModul  SUMGroupSouvenir  SUMGroupTrend  \n",
       "0            0.0               0.0            0.0  \n",
       "1            NaN               NaN            NaN  \n",
       "2            NaN               NaN            NaN  \n",
       "3            0.0               0.0            0.0  \n",
       "4            NaN               NaN            NaN  \n",
       "\n",
       "[5 rows x 55 columns]"
      ]
     },
     "execution_count": 13,
     "metadata": {},
     "output_type": "execute_result"
    }
   ],
   "source": [
    "data1.head()"
   ]
  },
  {
   "cell_type": "code",
   "execution_count": 14,
   "metadata": {},
   "outputs": [
    {
     "data": {
      "text/plain": [
       "Index(['PartnerID', 'Age', 'SEX', 'CityID', 'SMS', 'SUMSMS', 'SumQuantity',\n",
       "       'LT_M', 'LastVisit_M', 'GodNazad', 'QNTVisits', 'SUMM1', 'SUMM2',\n",
       "       'SUMM3', 'SUMM4', 'SUMM5', 'SUMM6', 'SUMM7', 'SUMM8', 'SUMM9', 'SUMM10',\n",
       "       'SUMM11', 'SUMM12', 'SumSumma', 'AVGSumma', 'SUMP1k', 'SUMP3k',\n",
       "       'SUMP6k', 'SUMP12k', 'SUMP50k', 'SUMKolco', 'SUMSERGI', 'SUMPPODVES',\n",
       "       'SUMCEP', 'SUMBRASLET', 'SUMKOLE', 'SUMCheap', 'SUMExpensive',\n",
       "       'SUMPremium', 'SUMMiddle', 'SUMZoloto', 'SUMSerebro', 'Metal',\n",
       "       'SUMColorBlack', 'SUMColorRed', 'SUMColorYellow', 'SUMColorWhite',\n",
       "       'SUMColor3', 'SUMColor2', 'SUMGroupBaza', 'SUMGroupClassic',\n",
       "       'SUMGroupModa', 'SUMGroupModul', 'SUMGroupSouvenir', 'SUMGroupTrend'],\n",
       "      dtype='object')"
      ]
     },
     "execution_count": 14,
     "metadata": {},
     "output_type": "execute_result"
    }
   ],
   "source": [
    "data1.columns"
   ]
  },
  {
   "cell_type": "code",
   "execution_count": 15,
   "metadata": {
    "scrolled": true
   },
   "outputs": [
    {
     "data": {
      "text/html": [
       "<div>\n",
       "<style scoped>\n",
       "    .dataframe tbody tr th:only-of-type {\n",
       "        vertical-align: middle;\n",
       "    }\n",
       "\n",
       "    .dataframe tbody tr th {\n",
       "        vertical-align: top;\n",
       "    }\n",
       "\n",
       "    .dataframe thead th {\n",
       "        text-align: right;\n",
       "    }\n",
       "</style>\n",
       "<table border=\"1\" class=\"dataframe\">\n",
       "  <thead>\n",
       "    <tr style=\"text-align: right;\">\n",
       "      <th></th>\n",
       "      <th>Age</th>\n",
       "      <th>SEX</th>\n",
       "      <th>CityID</th>\n",
       "      <th>SMS</th>\n",
       "      <th>SUMSMS</th>\n",
       "      <th>SumQuantity</th>\n",
       "      <th>LT_M</th>\n",
       "      <th>LastVisit_M</th>\n",
       "      <th>GodNazad</th>\n",
       "      <th>QNTVisits</th>\n",
       "      <th>...</th>\n",
       "      <th>SUMColorYellow</th>\n",
       "      <th>SUMColorWhite</th>\n",
       "      <th>SUMColor3</th>\n",
       "      <th>SUMColor2</th>\n",
       "      <th>SUMGroupBaza</th>\n",
       "      <th>SUMGroupClassic</th>\n",
       "      <th>SUMGroupModa</th>\n",
       "      <th>SUMGroupModul</th>\n",
       "      <th>SUMGroupSouvenir</th>\n",
       "      <th>SUMGroupTrend</th>\n",
       "    </tr>\n",
       "  </thead>\n",
       "  <tbody>\n",
       "    <tr>\n",
       "      <th>count</th>\n",
       "      <td>4.629218e+06</td>\n",
       "      <td>4.629218e+06</td>\n",
       "      <td>4.629218e+06</td>\n",
       "      <td>4.629218e+06</td>\n",
       "      <td>1.124676e+06</td>\n",
       "      <td>1.124676e+06</td>\n",
       "      <td>1.124676e+06</td>\n",
       "      <td>1.124676e+06</td>\n",
       "      <td>4.591089e+06</td>\n",
       "      <td>4.629218e+06</td>\n",
       "      <td>...</td>\n",
       "      <td>1.124676e+06</td>\n",
       "      <td>1.124676e+06</td>\n",
       "      <td>1.124676e+06</td>\n",
       "      <td>1.124676e+06</td>\n",
       "      <td>1.124676e+06</td>\n",
       "      <td>1.124676e+06</td>\n",
       "      <td>1.124676e+06</td>\n",
       "      <td>1.124676e+06</td>\n",
       "      <td>1.124676e+06</td>\n",
       "      <td>1.124676e+06</td>\n",
       "    </tr>\n",
       "    <tr>\n",
       "      <th>mean</th>\n",
       "      <td>3.590153e+01</td>\n",
       "      <td>3.120354e-01</td>\n",
       "      <td>7.064791e+01</td>\n",
       "      <td>3.556303e-02</td>\n",
       "      <td>1.753661e-02</td>\n",
       "      <td>1.536571e+00</td>\n",
       "      <td>3.220792e+01</td>\n",
       "      <td>3.220792e+01</td>\n",
       "      <td>1.383942e-02</td>\n",
       "      <td>3.731375e-01</td>\n",
       "      <td>...</td>\n",
       "      <td>4.408381e-03</td>\n",
       "      <td>3.174025e-01</td>\n",
       "      <td>4.076730e-03</td>\n",
       "      <td>1.103002e-01</td>\n",
       "      <td>3.729110e-01</td>\n",
       "      <td>9.763141e-01</td>\n",
       "      <td>1.136123e-01</td>\n",
       "      <td>2.907682e-02</td>\n",
       "      <td>7.603079e-03</td>\n",
       "      <td>8.988366e-03</td>\n",
       "    </tr>\n",
       "    <tr>\n",
       "      <th>std</th>\n",
       "      <td>1.673914e+01</td>\n",
       "      <td>4.633243e-01</td>\n",
       "      <td>3.426439e+01</td>\n",
       "      <td>1.851980e-01</td>\n",
       "      <td>1.569915e-01</td>\n",
       "      <td>5.013497e-01</td>\n",
       "      <td>1.618502e+01</td>\n",
       "      <td>1.618502e+01</td>\n",
       "      <td>1.168242e-01</td>\n",
       "      <td>7.030490e-01</td>\n",
       "      <td>...</td>\n",
       "      <td>7.731083e-02</td>\n",
       "      <td>6.310638e-01</td>\n",
       "      <td>7.579021e-02</td>\n",
       "      <td>3.733480e-01</td>\n",
       "      <td>6.253723e-01</td>\n",
       "      <td>7.670209e-01</td>\n",
       "      <td>3.885415e-01</td>\n",
       "      <td>2.068409e-01</td>\n",
       "      <td>1.034321e-01</td>\n",
       "      <td>1.127446e-01</td>\n",
       "    </tr>\n",
       "    <tr>\n",
       "      <th>min</th>\n",
       "      <td>0.000000e+00</td>\n",
       "      <td>0.000000e+00</td>\n",
       "      <td>1.000000e+00</td>\n",
       "      <td>0.000000e+00</td>\n",
       "      <td>0.000000e+00</td>\n",
       "      <td>1.000000e+00</td>\n",
       "      <td>1.000000e-01</td>\n",
       "      <td>1.000000e-01</td>\n",
       "      <td>0.000000e+00</td>\n",
       "      <td>0.000000e+00</td>\n",
       "      <td>...</td>\n",
       "      <td>0.000000e+00</td>\n",
       "      <td>0.000000e+00</td>\n",
       "      <td>0.000000e+00</td>\n",
       "      <td>0.000000e+00</td>\n",
       "      <td>0.000000e+00</td>\n",
       "      <td>0.000000e+00</td>\n",
       "      <td>0.000000e+00</td>\n",
       "      <td>0.000000e+00</td>\n",
       "      <td>0.000000e+00</td>\n",
       "      <td>0.000000e+00</td>\n",
       "    </tr>\n",
       "    <tr>\n",
       "      <th>25%</th>\n",
       "      <td>2.700000e+01</td>\n",
       "      <td>0.000000e+00</td>\n",
       "      <td>3.500000e+01</td>\n",
       "      <td>0.000000e+00</td>\n",
       "      <td>0.000000e+00</td>\n",
       "      <td>1.000000e+00</td>\n",
       "      <td>2.016667e+01</td>\n",
       "      <td>2.016667e+01</td>\n",
       "      <td>0.000000e+00</td>\n",
       "      <td>0.000000e+00</td>\n",
       "      <td>...</td>\n",
       "      <td>0.000000e+00</td>\n",
       "      <td>0.000000e+00</td>\n",
       "      <td>0.000000e+00</td>\n",
       "      <td>0.000000e+00</td>\n",
       "      <td>0.000000e+00</td>\n",
       "      <td>0.000000e+00</td>\n",
       "      <td>0.000000e+00</td>\n",
       "      <td>0.000000e+00</td>\n",
       "      <td>0.000000e+00</td>\n",
       "      <td>0.000000e+00</td>\n",
       "    </tr>\n",
       "    <tr>\n",
       "      <th>50%</th>\n",
       "      <td>3.500000e+01</td>\n",
       "      <td>0.000000e+00</td>\n",
       "      <td>7.800000e+01</td>\n",
       "      <td>0.000000e+00</td>\n",
       "      <td>0.000000e+00</td>\n",
       "      <td>2.000000e+00</td>\n",
       "      <td>3.096667e+01</td>\n",
       "      <td>3.096667e+01</td>\n",
       "      <td>0.000000e+00</td>\n",
       "      <td>0.000000e+00</td>\n",
       "      <td>...</td>\n",
       "      <td>0.000000e+00</td>\n",
       "      <td>0.000000e+00</td>\n",
       "      <td>0.000000e+00</td>\n",
       "      <td>0.000000e+00</td>\n",
       "      <td>0.000000e+00</td>\n",
       "      <td>1.000000e+00</td>\n",
       "      <td>0.000000e+00</td>\n",
       "      <td>0.000000e+00</td>\n",
       "      <td>0.000000e+00</td>\n",
       "      <td>0.000000e+00</td>\n",
       "    </tr>\n",
       "    <tr>\n",
       "      <th>75%</th>\n",
       "      <td>4.700000e+01</td>\n",
       "      <td>1.000000e+00</td>\n",
       "      <td>9.200000e+01</td>\n",
       "      <td>0.000000e+00</td>\n",
       "      <td>0.000000e+00</td>\n",
       "      <td>2.000000e+00</td>\n",
       "      <td>4.360000e+01</td>\n",
       "      <td>4.360000e+01</td>\n",
       "      <td>0.000000e+00</td>\n",
       "      <td>0.000000e+00</td>\n",
       "      <td>...</td>\n",
       "      <td>0.000000e+00</td>\n",
       "      <td>0.000000e+00</td>\n",
       "      <td>0.000000e+00</td>\n",
       "      <td>0.000000e+00</td>\n",
       "      <td>1.000000e+00</td>\n",
       "      <td>2.000000e+00</td>\n",
       "      <td>0.000000e+00</td>\n",
       "      <td>0.000000e+00</td>\n",
       "      <td>0.000000e+00</td>\n",
       "      <td>0.000000e+00</td>\n",
       "    </tr>\n",
       "    <tr>\n",
       "      <th>max</th>\n",
       "      <td>1.000000e+02</td>\n",
       "      <td>1.000000e+00</td>\n",
       "      <td>1.280000e+02</td>\n",
       "      <td>1.000000e+00</td>\n",
       "      <td>2.000000e+00</td>\n",
       "      <td>2.000000e+01</td>\n",
       "      <td>7.053333e+01</td>\n",
       "      <td>7.053333e+01</td>\n",
       "      <td>1.000000e+00</td>\n",
       "      <td>2.000000e+00</td>\n",
       "      <td>...</td>\n",
       "      <td>2.000000e+00</td>\n",
       "      <td>2.000000e+00</td>\n",
       "      <td>2.000000e+00</td>\n",
       "      <td>2.000000e+00</td>\n",
       "      <td>2.000000e+00</td>\n",
       "      <td>2.000000e+00</td>\n",
       "      <td>2.000000e+00</td>\n",
       "      <td>2.000000e+00</td>\n",
       "      <td>2.000000e+00</td>\n",
       "      <td>2.000000e+00</td>\n",
       "    </tr>\n",
       "  </tbody>\n",
       "</table>\n",
       "<p>8 rows × 53 columns</p>\n",
       "</div>"
      ],
      "text/plain": [
       "                Age           SEX        CityID           SMS        SUMSMS  \\\n",
       "count  4.629218e+06  4.629218e+06  4.629218e+06  4.629218e+06  1.124676e+06   \n",
       "mean   3.590153e+01  3.120354e-01  7.064791e+01  3.556303e-02  1.753661e-02   \n",
       "std    1.673914e+01  4.633243e-01  3.426439e+01  1.851980e-01  1.569915e-01   \n",
       "min    0.000000e+00  0.000000e+00  1.000000e+00  0.000000e+00  0.000000e+00   \n",
       "25%    2.700000e+01  0.000000e+00  3.500000e+01  0.000000e+00  0.000000e+00   \n",
       "50%    3.500000e+01  0.000000e+00  7.800000e+01  0.000000e+00  0.000000e+00   \n",
       "75%    4.700000e+01  1.000000e+00  9.200000e+01  0.000000e+00  0.000000e+00   \n",
       "max    1.000000e+02  1.000000e+00  1.280000e+02  1.000000e+00  2.000000e+00   \n",
       "\n",
       "        SumQuantity          LT_M   LastVisit_M      GodNazad     QNTVisits  \\\n",
       "count  1.124676e+06  1.124676e+06  1.124676e+06  4.591089e+06  4.629218e+06   \n",
       "mean   1.536571e+00  3.220792e+01  3.220792e+01  1.383942e-02  3.731375e-01   \n",
       "std    5.013497e-01  1.618502e+01  1.618502e+01  1.168242e-01  7.030490e-01   \n",
       "min    1.000000e+00  1.000000e-01  1.000000e-01  0.000000e+00  0.000000e+00   \n",
       "25%    1.000000e+00  2.016667e+01  2.016667e+01  0.000000e+00  0.000000e+00   \n",
       "50%    2.000000e+00  3.096667e+01  3.096667e+01  0.000000e+00  0.000000e+00   \n",
       "75%    2.000000e+00  4.360000e+01  4.360000e+01  0.000000e+00  0.000000e+00   \n",
       "max    2.000000e+01  7.053333e+01  7.053333e+01  1.000000e+00  2.000000e+00   \n",
       "\n",
       "           ...        SUMColorYellow  SUMColorWhite     SUMColor3  \\\n",
       "count      ...          1.124676e+06   1.124676e+06  1.124676e+06   \n",
       "mean       ...          4.408381e-03   3.174025e-01  4.076730e-03   \n",
       "std        ...          7.731083e-02   6.310638e-01  7.579021e-02   \n",
       "min        ...          0.000000e+00   0.000000e+00  0.000000e+00   \n",
       "25%        ...          0.000000e+00   0.000000e+00  0.000000e+00   \n",
       "50%        ...          0.000000e+00   0.000000e+00  0.000000e+00   \n",
       "75%        ...          0.000000e+00   0.000000e+00  0.000000e+00   \n",
       "max        ...          2.000000e+00   2.000000e+00  2.000000e+00   \n",
       "\n",
       "          SUMColor2  SUMGroupBaza  SUMGroupClassic  SUMGroupModa  \\\n",
       "count  1.124676e+06  1.124676e+06     1.124676e+06  1.124676e+06   \n",
       "mean   1.103002e-01  3.729110e-01     9.763141e-01  1.136123e-01   \n",
       "std    3.733480e-01  6.253723e-01     7.670209e-01  3.885415e-01   \n",
       "min    0.000000e+00  0.000000e+00     0.000000e+00  0.000000e+00   \n",
       "25%    0.000000e+00  0.000000e+00     0.000000e+00  0.000000e+00   \n",
       "50%    0.000000e+00  0.000000e+00     1.000000e+00  0.000000e+00   \n",
       "75%    0.000000e+00  1.000000e+00     2.000000e+00  0.000000e+00   \n",
       "max    2.000000e+00  2.000000e+00     2.000000e+00  2.000000e+00   \n",
       "\n",
       "       SUMGroupModul  SUMGroupSouvenir  SUMGroupTrend  \n",
       "count   1.124676e+06      1.124676e+06   1.124676e+06  \n",
       "mean    2.907682e-02      7.603079e-03   8.988366e-03  \n",
       "std     2.068409e-01      1.034321e-01   1.127446e-01  \n",
       "min     0.000000e+00      0.000000e+00   0.000000e+00  \n",
       "25%     0.000000e+00      0.000000e+00   0.000000e+00  \n",
       "50%     0.000000e+00      0.000000e+00   0.000000e+00  \n",
       "75%     0.000000e+00      0.000000e+00   0.000000e+00  \n",
       "max     2.000000e+00      2.000000e+00   2.000000e+00  \n",
       "\n",
       "[8 rows x 53 columns]"
      ]
     },
     "execution_count": 15,
     "metadata": {},
     "output_type": "execute_result"
    }
   ],
   "source": [
    "data1.describe()"
   ]
  },
  {
   "cell_type": "code",
   "execution_count": 16,
   "metadata": {},
   "outputs": [
    {
     "data": {
      "text/plain": [
       "(4629218, 55)"
      ]
     },
     "execution_count": 16,
     "metadata": {},
     "output_type": "execute_result"
    }
   ],
   "source": [
    "data1.shape"
   ]
  },
  {
   "cell_type": "code",
   "execution_count": 103,
   "metadata": {},
   "outputs": [
    {
     "name": "stdout",
     "output_type": "stream",
     "text": [
      "2.0\n",
      "21145.0\n"
     ]
    }
   ],
   "source": [
    "print(data1['QNTVisits'].quantile(0.95))\n",
    "print(data1['SumSumma'].quantile(0.95))"
   ]
  },
  {
   "cell_type": "code",
   "execution_count": 104,
   "metadata": {},
   "outputs": [],
   "source": [
    "data1 = data1[data1['QNTVisits']<126.0]\n",
    "data1 = data1[data1['QNTVisits']<21145.0]"
   ]
  },
  {
   "cell_type": "code",
   "execution_count": 105,
   "metadata": {},
   "outputs": [
    {
     "data": {
      "text/plain": [
       "(4629218, 55)"
      ]
     },
     "execution_count": 105,
     "metadata": {},
     "output_type": "execute_result"
    }
   ],
   "source": [
    "data1.shape"
   ]
  },
  {
   "cell_type": "code",
   "execution_count": 106,
   "metadata": {},
   "outputs": [],
   "source": [
    "data1['Metal'].replace('ЗОЛОТО' ,0,inplace=True)\n",
    "data1['Metal'].replace('СЕРЕБРО',1,inplace=True)"
   ]
  },
  {
   "cell_type": "code",
   "execution_count": 107,
   "metadata": {},
   "outputs": [
    {
     "data": {
      "text/plain": [
       "0    3239654\n",
       "1    1389564\n",
       "Name: Metal, dtype: int64"
      ]
     },
     "execution_count": 107,
     "metadata": {},
     "output_type": "execute_result"
    }
   ],
   "source": [
    "data1['Metal'].value_counts()"
   ]
  },
  {
   "cell_type": "code",
   "execution_count": 108,
   "metadata": {},
   "outputs": [],
   "source": [
    "data = pd.get_dummies(data1, columns = ['SEX','CityID'],drop_first=True)"
   ]
  },
  {
   "cell_type": "code",
   "execution_count": 66,
   "metadata": {},
   "outputs": [],
   "source": [
    "#feature engineering"
   ]
  },
  {
   "cell_type": "code",
   "execution_count": 109,
   "metadata": {},
   "outputs": [],
   "source": [
    "data = data.fillna(0)"
   ]
  },
  {
   "cell_type": "code",
   "execution_count": 110,
   "metadata": {},
   "outputs": [],
   "source": [
    "data= pd.concat([data,data[data['Metal']==1]],axis=0,ignore_index=True) # добавляем меньшего класса - делаем балансировку"
   ]
  },
  {
   "cell_type": "code",
   "execution_count": 93,
   "metadata": {},
   "outputs": [],
   "source": [
    "n_comp = 5\n",
    "\n",
    "# tSVD\n",
    "tsvd = TruncatedSVD(n_components=n_comp, random_state=420)\n",
    "tsvd_results_train = tsvd.fit_transform(data.drop([\"Metal\"], axis=1))\n",
    "# PCA\n",
    "pca = PCA(n_components=n_comp, random_state=420)\n",
    "pca2_results_train = pca.fit_transform(data.drop([\"Metal\"], axis=1))\n",
    "# ICA\n",
    "ica = FastICA(n_components=n_comp, random_state=420)\n",
    "ica2_results_train = ica.fit_transform(data.drop([\"Metal\"], axis=1))\n",
    "# GRP\n",
    "grp = GaussianRandomProjection(n_components=n_comp, eps=0.1, random_state=420)\n",
    "grp_results_train = grp.fit_transform(data.drop([\"Metal\"], axis=1))\n",
    "# SRP\n",
    "srp = SparseRandomProjection(n_components=n_comp, dense_output=True, random_state=420)\n",
    "srp_results_train = srp.fit_transform(data.drop([\"Metal\"], axis=1))"
   ]
  },
  {
   "cell_type": "code",
   "execution_count": 94,
   "metadata": {},
   "outputs": [
    {
     "data": {
      "text/html": [
       "<div>\n",
       "<style scoped>\n",
       "    .dataframe tbody tr th:only-of-type {\n",
       "        vertical-align: middle;\n",
       "    }\n",
       "\n",
       "    .dataframe tbody tr th {\n",
       "        vertical-align: top;\n",
       "    }\n",
       "\n",
       "    .dataframe thead th {\n",
       "        text-align: right;\n",
       "    }\n",
       "</style>\n",
       "<table border=\"1\" class=\"dataframe\">\n",
       "  <thead>\n",
       "    <tr style=\"text-align: right;\">\n",
       "      <th></th>\n",
       "      <th>PartnerID</th>\n",
       "      <th>Age</th>\n",
       "      <th>SMS</th>\n",
       "      <th>SUMSMS</th>\n",
       "      <th>SumQuantity</th>\n",
       "      <th>LT_M</th>\n",
       "      <th>LastVisit_M</th>\n",
       "      <th>GodNazad</th>\n",
       "      <th>QNTVisits</th>\n",
       "      <th>SUMM1</th>\n",
       "      <th>...</th>\n",
       "      <th>pca_4</th>\n",
       "      <th>ica_4</th>\n",
       "      <th>tsvd_4</th>\n",
       "      <th>grp_4</th>\n",
       "      <th>srp_4</th>\n",
       "      <th>pca_5</th>\n",
       "      <th>ica_5</th>\n",
       "      <th>tsvd_5</th>\n",
       "      <th>grp_5</th>\n",
       "      <th>srp_5</th>\n",
       "    </tr>\n",
       "  </thead>\n",
       "  <tbody>\n",
       "    <tr>\n",
       "      <th>0</th>\n",
       "      <td>1690104</td>\n",
       "      <td>44</td>\n",
       "      <td>0</td>\n",
       "      <td>0.0</td>\n",
       "      <td>2.0</td>\n",
       "      <td>42.133333</td>\n",
       "      <td>42.133333</td>\n",
       "      <td>0.0</td>\n",
       "      <td>2</td>\n",
       "      <td>0.0</td>\n",
       "      <td>...</td>\n",
       "      <td>-27.766632</td>\n",
       "      <td>-0.000149</td>\n",
       "      <td>-36.182738</td>\n",
       "      <td>-114232.817203</td>\n",
       "      <td>15479.500918</td>\n",
       "      <td>-4.477365</td>\n",
       "      <td>0.000749</td>\n",
       "      <td>-19.123006</td>\n",
       "      <td>6.474740e+05</td>\n",
       "      <td>0.0</td>\n",
       "    </tr>\n",
       "    <tr>\n",
       "      <th>1</th>\n",
       "      <td>5625439</td>\n",
       "      <td>46</td>\n",
       "      <td>0</td>\n",
       "      <td>0.0</td>\n",
       "      <td>0.0</td>\n",
       "      <td>0.000000</td>\n",
       "      <td>0.000000</td>\n",
       "      <td>0.0</td>\n",
       "      <td>0</td>\n",
       "      <td>0.0</td>\n",
       "      <td>...</td>\n",
       "      <td>-5.517808</td>\n",
       "      <td>-0.000109</td>\n",
       "      <td>1.825094</td>\n",
       "      <td>-426988.197511</td>\n",
       "      <td>0.000000</td>\n",
       "      <td>7.923330</td>\n",
       "      <td>-0.000117</td>\n",
       "      <td>3.001969</td>\n",
       "      <td>2.111437e+06</td>\n",
       "      <td>0.0</td>\n",
       "    </tr>\n",
       "    <tr>\n",
       "      <th>2</th>\n",
       "      <td>5245334</td>\n",
       "      <td>29</td>\n",
       "      <td>0</td>\n",
       "      <td>0.0</td>\n",
       "      <td>0.0</td>\n",
       "      <td>0.000000</td>\n",
       "      <td>0.000000</td>\n",
       "      <td>0.0</td>\n",
       "      <td>0</td>\n",
       "      <td>0.0</td>\n",
       "      <td>...</td>\n",
       "      <td>2.999457</td>\n",
       "      <td>-0.000110</td>\n",
       "      <td>13.817485</td>\n",
       "      <td>-398131.968057</td>\n",
       "      <td>0.000000</td>\n",
       "      <td>-6.709314</td>\n",
       "      <td>-0.000117</td>\n",
       "      <td>-3.996859</td>\n",
       "      <td>1.968776e+06</td>\n",
       "      <td>0.0</td>\n",
       "    </tr>\n",
       "    <tr>\n",
       "      <th>3</th>\n",
       "      <td>3219671</td>\n",
       "      <td>0</td>\n",
       "      <td>0</td>\n",
       "      <td>0.0</td>\n",
       "      <td>1.0</td>\n",
       "      <td>17.066666</td>\n",
       "      <td>17.066666</td>\n",
       "      <td>0.0</td>\n",
       "      <td>1</td>\n",
       "      <td>0.0</td>\n",
       "      <td>...</td>\n",
       "      <td>1.487357</td>\n",
       "      <td>-0.000060</td>\n",
       "      <td>13.782318</td>\n",
       "      <td>-243620.034146</td>\n",
       "      <td>760.675391</td>\n",
       "      <td>-38.962344</td>\n",
       "      <td>-0.000179</td>\n",
       "      <td>-30.769936</td>\n",
       "      <td>1.209304e+06</td>\n",
       "      <td>0.0</td>\n",
       "    </tr>\n",
       "    <tr>\n",
       "      <th>4</th>\n",
       "      <td>1510435</td>\n",
       "      <td>57</td>\n",
       "      <td>0</td>\n",
       "      <td>0.0</td>\n",
       "      <td>0.0</td>\n",
       "      <td>0.000000</td>\n",
       "      <td>0.000000</td>\n",
       "      <td>0.0</td>\n",
       "      <td>0</td>\n",
       "      <td>0.0</td>\n",
       "      <td>...</td>\n",
       "      <td>2.095950</td>\n",
       "      <td>-0.000086</td>\n",
       "      <td>-38.452845</td>\n",
       "      <td>-114663.770689</td>\n",
       "      <td>0.000000</td>\n",
       "      <td>25.255201</td>\n",
       "      <td>-0.000093</td>\n",
       "      <td>22.648363</td>\n",
       "      <td>5.669038e+05</td>\n",
       "      <td>0.0</td>\n",
       "    </tr>\n",
       "  </tbody>\n",
       "</table>\n",
       "<p>5 rows × 199 columns</p>\n",
       "</div>"
      ],
      "text/plain": [
       "  PartnerID  Age  SMS  SUMSMS  SumQuantity       LT_M  LastVisit_M  GodNazad  \\\n",
       "0   1690104   44    0     0.0          2.0  42.133333    42.133333       0.0   \n",
       "1   5625439   46    0     0.0          0.0   0.000000     0.000000       0.0   \n",
       "2   5245334   29    0     0.0          0.0   0.000000     0.000000       0.0   \n",
       "3   3219671    0    0     0.0          1.0  17.066666    17.066666       0.0   \n",
       "4   1510435   57    0     0.0          0.0   0.000000     0.000000       0.0   \n",
       "\n",
       "   QNTVisits  SUMM1  ...        pca_4     ica_4     tsvd_4          grp_4  \\\n",
       "0          2    0.0  ...   -27.766632 -0.000149 -36.182738 -114232.817203   \n",
       "1          0    0.0  ...    -5.517808 -0.000109   1.825094 -426988.197511   \n",
       "2          0    0.0  ...     2.999457 -0.000110  13.817485 -398131.968057   \n",
       "3          1    0.0  ...     1.487357 -0.000060  13.782318 -243620.034146   \n",
       "4          0    0.0  ...     2.095950 -0.000086 -38.452845 -114663.770689   \n",
       "\n",
       "          srp_4      pca_5     ica_5     tsvd_5         grp_5  srp_5  \n",
       "0  15479.500918  -4.477365  0.000749 -19.123006  6.474740e+05    0.0  \n",
       "1      0.000000   7.923330 -0.000117   3.001969  2.111437e+06    0.0  \n",
       "2      0.000000  -6.709314 -0.000117  -3.996859  1.968776e+06    0.0  \n",
       "3    760.675391 -38.962344 -0.000179 -30.769936  1.209304e+06    0.0  \n",
       "4      0.000000  25.255201 -0.000093  22.648363  5.669038e+05    0.0  \n",
       "\n",
       "[5 rows x 199 columns]"
      ]
     },
     "execution_count": 94,
     "metadata": {},
     "output_type": "execute_result"
    }
   ],
   "source": [
    "# Append decomposition components to datasets\n",
    "for i in range(1, n_comp + 1):\n",
    "    data['pca_' + str(i)] = pca2_results_train[:, i - 1]\n",
    "\n",
    "    data['ica_' + str(i)] = ica2_results_train[:, i - 1]\n",
    "\n",
    "    data['tsvd_' + str(i)] = tsvd_results_train[:, i - 1]\n",
    "\n",
    "    data['grp_' + str(i)] = grp_results_train[:, i - 1]\n",
    "\n",
    "    data['srp_' + str(i)] = srp_results_train[:, i - 1]\n",
    "data.head()"
   ]
  },
  {
   "cell_type": "code",
   "execution_count": 111,
   "metadata": {},
   "outputs": [],
   "source": [
    "X = data.drop('Metal',axis=1).fillna(0)\n",
    "y = data['Metal']"
   ]
  },
  {
   "cell_type": "code",
   "execution_count": 112,
   "metadata": {},
   "outputs": [],
   "source": [
    "scaler = StandardScaler()\n",
    "Xn = scaler.fit_transform(X)"
   ]
  },
  {
   "cell_type": "code",
   "execution_count": 113,
   "metadata": {},
   "outputs": [
    {
     "data": {
      "text/plain": [
       "(6018782, 173)"
      ]
     },
     "execution_count": 113,
     "metadata": {},
     "output_type": "execute_result"
    }
   ],
   "source": [
    "Xn.shape"
   ]
  },
  {
   "cell_type": "code",
   "execution_count": 114,
   "metadata": {},
   "outputs": [
    {
     "data": {
      "text/plain": [
       "(6018782,)"
      ]
     },
     "execution_count": 114,
     "metadata": {},
     "output_type": "execute_result"
    }
   ],
   "source": [
    "y.shape"
   ]
  },
  {
   "cell_type": "code",
   "execution_count": 115,
   "metadata": {},
   "outputs": [],
   "source": [
    "from sklearn.model_selection import train_test_split\n",
    "X_train, X_test, y_train, y_test = train_test_split(Xn, y, test_size=0.25, random_state=42,stratify=y,)"
   ]
  },
  {
   "cell_type": "code",
   "execution_count": 117,
   "metadata": {},
   "outputs": [
    {
     "name": "stdout",
     "output_type": "stream",
     "text": [
      "-1.8231545672692662e+20\n",
      "0.6691377347848337\n"
     ]
    }
   ],
   "source": [
    "from sklearn.linear_model import LinearRegression\n",
    "reg = LinearRegression().fit(X_train, y_train)\n",
    "print(reg.score(X, y))\n",
    "test_probs2 = reg.predict(X_test)\n",
    "print(roc_auc_score(y_test, test_probs2))"
   ]
  },
  {
   "cell_type": "code",
   "execution_count": 118,
   "metadata": {},
   "outputs": [
    {
     "name": "stdout",
     "output_type": "stream",
     "text": [
      "0.6691377347848337\n"
     ]
    }
   ],
   "source": [
    "test_probs2 = reg.predict(X_test)\n",
    "print(roc_auc_score(y_test, test_probs2))"
   ]
  },
  {
   "cell_type": "code",
   "execution_count": 66,
   "metadata": {},
   "outputs": [
    {
     "name": "stdout",
     "output_type": "stream",
     "text": [
      "             precision    recall  f1-score   support\n",
      "\n",
      "          0       0.84      0.86      0.85    328170\n",
      "          1       0.72      0.70      0.71    175315\n",
      "\n",
      "avg / total       0.80      0.80      0.80    503485\n",
      "\n",
      "[[280827  47343]\n",
      " [ 53209 122106]]\n",
      "0.7761156184001416\n"
     ]
    }
   ],
   "source": [
    "from sklearn import metrics\n",
    "from sklearn.tree import DecisionTreeClassifier\n",
    "# fit a CART model to the data\n",
    "model = DecisionTreeClassifier()\n",
    "model.fit(X_train, y_train)\n",
    "#print(model)\n",
    "# make predictions\n",
    "expected = y_test\n",
    "predicted = model.predict(X_test)\n",
    "# summarize the fit of the model\n",
    "print(metrics.classification_report(expected, predicted))\n",
    "print(metrics.confusion_matrix(expected, predicted))\n",
    "print(roc_auc_score(expected, predicted))\n",
    "#ExtraTreesClassifier"
   ]
  },
  {
   "cell_type": "code",
   "execution_count": 80,
   "metadata": {
    "scrolled": true
   },
   "outputs": [
    {
     "name": "stdout",
     "output_type": "stream",
     "text": [
      "             precision    recall  f1-score   support\n",
      "\n",
      "          0       0.74      0.88      0.80    809914\n",
      "          1       0.49      0.26      0.34    347391\n",
      "\n",
      "avg / total       0.66      0.70      0.66   1157305\n",
      "\n",
      "[[713673  96241]\n",
      " [255835  91556]]\n",
      "0.5723622531572718\n",
      "Wall time: 4min 44s\n"
     ]
    }
   ],
   "source": [
    "%%time\n",
    "from sklearn import metrics\n",
    "from sklearn.ensemble import ExtraTreesClassifier\n",
    "# fit a CART model to the data\n",
    "ExTC = ExtraTreesClassifier(n_jobs=-1,max_features='log2',class_weight='balanced')\n",
    "param_grid = { \n",
    "    'n_estimators': [200, 700],\n",
    "    'class_weight':['balanced'],\n",
    "   # 'max_depth' : [2,200,1000],\n",
    "    'max_features': ['auto', 'sqrt', 'log2']\n",
    "}\n",
    "model = GridSearchCV(estimator=ExTC, param_grid=param_grid, cv= 5)\n",
    "ExTC.fit(X_train, y_train)\n",
    "#print(model)\n",
    "# make predictions\n",
    "expected = y_test\n",
    "predicted = ExTC.predict(X_test)\n",
    "# summarize the fit of the model\n",
    "print(metrics.classification_report(expected, predicted))\n",
    "print(metrics.confusion_matrix(expected, predicted))\n",
    "print(roc_auc_score(expected, predicted))\n",
    "#ExtraTreesClassifier"
   ]
  },
  {
   "cell_type": "code",
   "execution_count": 87,
   "metadata": {},
   "outputs": [
    {
     "name": "stdout",
     "output_type": "stream",
     "text": [
      "0.5723622531572718\n"
     ]
    }
   ],
   "source": [
    "print(roc_auc_score(y_test1, ExTC.predict(X_test1)))"
   ]
  },
  {
   "cell_type": "code",
   "execution_count": 102,
   "metadata": {},
   "outputs": [
    {
     "data": {
      "text/plain": [
       "0.6957794185629544"
      ]
     },
     "execution_count": 102,
     "metadata": {},
     "output_type": "execute_result"
    }
   ],
   "source": [
    "ExTC.score(X_test1,y_test1)"
   ]
  },
  {
   "cell_type": "code",
   "execution_count": 101,
   "metadata": {},
   "outputs": [
    {
     "data": {
      "text/plain": [
       "<matplotlib.axes._subplots.AxesSubplot at 0xc8453ba940>"
      ]
     },
     "execution_count": 101,
     "metadata": {},
     "output_type": "execute_result"
    },
    {
     "data": {
      "image/png": "[encoded data removed]",
      "text/plain": [
       "<Figure size 432x288 with 1 Axes>"
      ]
     },
     "metadata": {},
     "output_type": "display_data"
    }
   ],
   "source": [
    "feat_importances = pd.Series(ExTC.feature_importances_, index=X.columns)\n",
    "feat_importances.nlargest(25).plot(kind='barh')"
   ]
  },
  {
   "cell_type": "code",
   "execution_count": null,
   "metadata": {},
   "outputs": [],
   "source": []
  },
  {
   "cell_type": "code",
   "execution_count": 30,
   "metadata": {},
   "outputs": [
    {
     "name": "stdout",
     "output_type": "stream",
     "text": [
      "             precision    recall  f1-score   support\n",
      "\n",
      "          0       0.78      0.89      0.83    412957\n",
      "          1       0.70      0.51      0.59    215492\n",
      "\n",
      "avg / total       0.75      0.76      0.75    628449\n",
      "\n",
      "[[366628  46329]\n",
      " [105121 110371]]\n",
      "0.6999964953022748\n"
     ]
    }
   ],
   "source": [
    "from sklearn import metrics\n",
    "from sklearn.tree import DecisionTreeClassifier\n",
    "# fit a CART model to the data\n",
    "model = xgb.XGBClassifier()\n",
    "model.fit(X_train, y_train)\n",
    "#print(model)\n",
    "# make predictions\n",
    "expected = y_test\n",
    "predicted = model.predict(X_test)\n",
    "# summarize the fit of the model\n",
    "print(metrics.classification_report(expected, predicted))\n",
    "print(metrics.confusion_matrix(expected, predicted))\n",
    "print(roc_auc_score(expected, predicted))"
   ]
  },
  {
   "cell_type": "code",
   "execution_count": 26,
   "metadata": {},
   "outputs": [
    {
     "data": {
      "text/plain": [
       "0    1238871\n",
       "1     646473\n",
       "Name: Metal, dtype: int64"
      ]
     },
     "execution_count": 26,
     "metadata": {},
     "output_type": "execute_result"
    }
   ],
   "source": [
    "y_train.value_counts()"
   ]
  },
  {
   "cell_type": "code",
   "execution_count": 27,
   "metadata": {},
   "outputs": [
    {
     "name": "stdout",
     "output_type": "stream",
     "text": [
      "Wall time: 1min 24s\n"
     ]
    }
   ],
   "source": [
    "%%time\n",
    "from sklearn.linear_model import ElasticNetCV\n",
    "model = ElasticNetCV()\n",
    "model.fit(X_train, y_train)\n",
    "#print(model)\n",
    "# make predictions\n",
    "expected = y_test\n",
    "predicted = model.predict(X_test)"
   ]
  },
  {
   "cell_type": "code",
   "execution_count": 32,
   "metadata": {},
   "outputs": [
    {
     "name": "stdout",
     "output_type": "stream",
     "text": [
      "0.7517887180717764\n"
     ]
    }
   ],
   "source": [
    "# summarize the fit of the model\n",
    "#print(metrics.classification_report(expected, predicted))\n",
    "#print(metrics.confusion_matrix(expected, predicted))\n",
    "print(roc_auc_score(expected, predicted))"
   ]
  },
  {
   "cell_type": "code",
   "execution_count": null,
   "metadata": {},
   "outputs": [],
   "source": []
  },
  {
   "cell_type": "code",
   "execution_count": null,
   "metadata": {},
   "outputs": [],
   "source": []
  },
  {
   "cell_type": "code",
   "execution_count": null,
   "metadata": {},
   "outputs": [],
   "source": [
    "from sklearn import metrics\n",
    "#from sklearn.neighbors import KNeighborsClassifier\n",
    "# fit a CART model to the data\n",
    "model = KNeighborsClassifier()\n",
    "model.fit(X_train, y_train)\n",
    "#print(model)\n",
    "# make predictions\n",
    "expected = y_test\n",
    "predicted = model.predict(X_test)\n",
    "# summarize the fit of the model\n",
    "print(metrics.classification_report(expected, predicted))\n",
    "print(metrics.confusion_matrix(expected, predicted))\n",
    "print(roc_auc_score(expected, predicted))"
   ]
  },
  {
   "cell_type": "code",
   "execution_count": 1,
   "metadata": {},
   "outputs": [
    {
     "data": {
      "text/plain": [
       "4"
      ]
     },
     "execution_count": 1,
     "metadata": {},
     "output_type": "execute_result"
    }
   ],
   "source": [
    "2+2"
   ]
  },
  {
   "cell_type": "code",
   "execution_count": null,
   "metadata": {},
   "outputs": [],
   "source": []
  }
 ],
 "metadata": {
  "kernelspec": {
   "display_name": "Python 3",
   "language": "python",
   "name": "python3"
  },
  "language_info": {
   "codemirror_mode": {
    "name": "ipython",
    "version": 3
   },
   "file_extension": ".py",
   "mimetype": "text/x-python",
   "name": "python",
   "nbconvert_exporter": "python",
   "pygments_lexer": "ipython3",
   "version": "3.6.5"
  }
 },
 "nbformat": 4,
 "nbformat_minor": 2
}
