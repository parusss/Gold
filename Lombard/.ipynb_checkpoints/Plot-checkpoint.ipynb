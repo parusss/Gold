{
 "cells": [
  {
   "cell_type": "code",
   "execution_count": 29,
   "metadata": {},
   "outputs": [
    {
     "name": "stdout",
     "output_type": "stream",
     "text": [
      "Populating the interactive namespace from numpy and matplotlib\n"
     ]
    },
    {
     "data": {
      "text/html": [
       "<style>.container{width:90% !important;}</style>"
      ],
      "text/plain": [
       "<IPython.core.display.HTML object>"
      ]
     },
     "metadata": {},
     "output_type": "display_data"
    },
    {
     "name": "stdout",
     "output_type": "stream",
     "text": [
      "Populating the interactive namespace from numpy and matplotlib\n"
     ]
    }
   ],
   "source": [
    "import pyodbc\n",
    "import numpy as np; import pandas as pd; import pyodbc; import datetime; import sklearn; import os; import math\n",
    "from sklearn import feature_selection, linear_model, grid_search, cross_validation, metrics, ensemble, learning_curve \n",
    "from sklearn.preprocessing import scale\n",
    "from sklearn.manifold import TSNE\n",
    "import pickle\n",
    "import xgboost as xgb\n",
    "from sklearn.feature_selection import chi2, f_classif, SelectKBest\n",
    "from sklearn.preprocessing import StandardScaler\n",
    "%pylab inline \n",
    "import sys\n",
    "import warnings\n",
    "import seaborn as sns\n",
    "\n",
    "if not sys.warnoptions:\n",
    "    warnings.simplefilter(\"ignore\")\n",
    "    \n",
    "from IPython.core.display import display,HTML\n",
    "display(HTML(\"<style>.container{width:90% !important;}</style>\"))\n",
    "import numpy as np\n",
    "import matplotlib.pyplot as plt\n",
    "from matplotlib import pyplot as plt\n",
    "from sklearn.preprocessing import scale\n",
    "from sklearn.manifold import TSNE\n",
    "import matplotlib.cm as cm \n",
    "%pylab inline\n",
    "conn = pyodbc.connect(r'DRIVER={SQL Server Native Client 11.0};'r'SERVER=WIN-5G5AUOCEJPK;'r'DATABASE=PepsiCo_new;'r'Trusted_Connection=yes;')"
   ]
  },
  {
   "cell_type": "code",
   "execution_count": 7,
   "metadata": {},
   "outputs": [
    {
     "data": {
      "text/html": [
       "<div>\n",
       "<style scoped>\n",
       "    .dataframe tbody tr th:only-of-type {\n",
       "        vertical-align: middle;\n",
       "    }\n",
       "\n",
       "    .dataframe tbody tr th {\n",
       "        vertical-align: top;\n",
       "    }\n",
       "\n",
       "    .dataframe thead th {\n",
       "        text-align: right;\n",
       "    }\n",
       "</style>\n",
       "<table border=\"1\" class=\"dataframe\">\n",
       "  <thead>\n",
       "    <tr style=\"text-align: right;\">\n",
       "      <th></th>\n",
       "      <th>Unnamed: 0</th>\n",
       "      <th>PartnerID</th>\n",
       "      <th>Sex</th>\n",
       "      <th>Age</th>\n",
       "      <th>LombardRating</th>\n",
       "      <th>LombardFirstDealDate</th>\n",
       "      <th>CountryID</th>\n",
       "      <th>isValidPhone</th>\n",
       "      <th>isSMSEnable</th>\n",
       "      <th>isSMSBlack</th>\n",
       "      <th>...</th>\n",
       "      <th>minOverPayAmount</th>\n",
       "      <th>maxOverPayAmount</th>\n",
       "      <th>avgOverPayAmount</th>\n",
       "      <th>minPercentPerDay</th>\n",
       "      <th>maxPercentPerDay</th>\n",
       "      <th>avgPercentPerDay</th>\n",
       "      <th>sumPercentAmount</th>\n",
       "      <th>minPercentAmount.1</th>\n",
       "      <th>maxPercentAmount.1</th>\n",
       "      <th>avgPercentAmount.1</th>\n",
       "    </tr>\n",
       "  </thead>\n",
       "  <tbody>\n",
       "    <tr>\n",
       "      <th>0</th>\n",
       "      <td>0</td>\n",
       "      <td>92807</td>\n",
       "      <td>F</td>\n",
       "      <td>33</td>\n",
       "      <td>0</td>\n",
       "      <td>2011-07-27</td>\n",
       "      <td>0</td>\n",
       "      <td>0</td>\n",
       "      <td>0</td>\n",
       "      <td>0</td>\n",
       "      <td>...</td>\n",
       "      <td>0.0</td>\n",
       "      <td>0.00</td>\n",
       "      <td>0.0000</td>\n",
       "      <td>0.60</td>\n",
       "      <td>0.60</td>\n",
       "      <td>0.6000</td>\n",
       "      <td>NaN</td>\n",
       "      <td>NaN</td>\n",
       "      <td>NaN</td>\n",
       "      <td>NaN</td>\n",
       "    </tr>\n",
       "    <tr>\n",
       "      <th>1</th>\n",
       "      <td>1</td>\n",
       "      <td>122092</td>\n",
       "      <td>F</td>\n",
       "      <td>32</td>\n",
       "      <td>4</td>\n",
       "      <td>2011-11-10</td>\n",
       "      <td>0</td>\n",
       "      <td>1</td>\n",
       "      <td>0</td>\n",
       "      <td>0</td>\n",
       "      <td>...</td>\n",
       "      <td>0.0</td>\n",
       "      <td>4912.50</td>\n",
       "      <td>994.4345</td>\n",
       "      <td>0.00</td>\n",
       "      <td>0.33</td>\n",
       "      <td>0.2543</td>\n",
       "      <td>31071.35</td>\n",
       "      <td>7.2</td>\n",
       "      <td>3766.25</td>\n",
       "      <td>501.1508</td>\n",
       "    </tr>\n",
       "    <tr>\n",
       "      <th>2</th>\n",
       "      <td>2</td>\n",
       "      <td>144322</td>\n",
       "      <td>F</td>\n",
       "      <td>54</td>\n",
       "      <td>0</td>\n",
       "      <td>2011-11-14</td>\n",
       "      <td>0</td>\n",
       "      <td>1</td>\n",
       "      <td>0</td>\n",
       "      <td>0</td>\n",
       "      <td>...</td>\n",
       "      <td>0.0</td>\n",
       "      <td>0.00</td>\n",
       "      <td>0.0000</td>\n",
       "      <td>0.39</td>\n",
       "      <td>0.39</td>\n",
       "      <td>0.3900</td>\n",
       "      <td>NaN</td>\n",
       "      <td>NaN</td>\n",
       "      <td>NaN</td>\n",
       "      <td>NaN</td>\n",
       "    </tr>\n",
       "    <tr>\n",
       "      <th>3</th>\n",
       "      <td>3</td>\n",
       "      <td>143788</td>\n",
       "      <td>F</td>\n",
       "      <td>46</td>\n",
       "      <td>0</td>\n",
       "      <td>2011-11-28</td>\n",
       "      <td>0</td>\n",
       "      <td>0</td>\n",
       "      <td>0</td>\n",
       "      <td>0</td>\n",
       "      <td>...</td>\n",
       "      <td>0.0</td>\n",
       "      <td>0.00</td>\n",
       "      <td>0.0000</td>\n",
       "      <td>0.40</td>\n",
       "      <td>0.40</td>\n",
       "      <td>0.4000</td>\n",
       "      <td>NaN</td>\n",
       "      <td>NaN</td>\n",
       "      <td>NaN</td>\n",
       "      <td>NaN</td>\n",
       "    </tr>\n",
       "    <tr>\n",
       "      <th>4</th>\n",
       "      <td>4</td>\n",
       "      <td>144756</td>\n",
       "      <td>F</td>\n",
       "      <td>18</td>\n",
       "      <td>0</td>\n",
       "      <td>2012-01-04</td>\n",
       "      <td>0</td>\n",
       "      <td>1</td>\n",
       "      <td>0</td>\n",
       "      <td>0</td>\n",
       "      <td>...</td>\n",
       "      <td>0.0</td>\n",
       "      <td>427.68</td>\n",
       "      <td>0.1907</td>\n",
       "      <td>0.00</td>\n",
       "      <td>0.60</td>\n",
       "      <td>0.3806</td>\n",
       "      <td>NaN</td>\n",
       "      <td>NaN</td>\n",
       "      <td>NaN</td>\n",
       "      <td>NaN</td>\n",
       "    </tr>\n",
       "  </tbody>\n",
       "</table>\n",
       "<p>5 rows × 80 columns</p>\n",
       "</div>"
      ],
      "text/plain": [
       "   Unnamed: 0  PartnerID Sex  Age  LombardRating LombardFirstDealDate  \\\n",
       "0           0      92807   F   33              0           2011-07-27   \n",
       "1           1     122092   F   32              4           2011-11-10   \n",
       "2           2     144322   F   54              0           2011-11-14   \n",
       "3           3     143788   F   46              0           2011-11-28   \n",
       "4           4     144756   F   18              0           2012-01-04   \n",
       "\n",
       "   CountryID  isValidPhone  isSMSEnable  isSMSBlack         ...          \\\n",
       "0          0             0            0           0         ...           \n",
       "1          0             1            0           0         ...           \n",
       "2          0             1            0           0         ...           \n",
       "3          0             0            0           0         ...           \n",
       "4          0             1            0           0         ...           \n",
       "\n",
       "   minOverPayAmount  maxOverPayAmount  avgOverPayAmount  minPercentPerDay  \\\n",
       "0               0.0              0.00            0.0000              0.60   \n",
       "1               0.0           4912.50          994.4345              0.00   \n",
       "2               0.0              0.00            0.0000              0.39   \n",
       "3               0.0              0.00            0.0000              0.40   \n",
       "4               0.0            427.68            0.1907              0.00   \n",
       "\n",
       "   maxPercentPerDay avgPercentPerDay sumPercentAmount  minPercentAmount.1  \\\n",
       "0              0.60           0.6000              NaN                 NaN   \n",
       "1              0.33           0.2543         31071.35                 7.2   \n",
       "2              0.39           0.3900              NaN                 NaN   \n",
       "3              0.40           0.4000              NaN                 NaN   \n",
       "4              0.60           0.3806              NaN                 NaN   \n",
       "\n",
       "   maxPercentAmount.1  avgPercentAmount.1  \n",
       "0                 NaN                 NaN  \n",
       "1             3766.25            501.1508  \n",
       "2                 NaN                 NaN  \n",
       "3                 NaN                 NaN  \n",
       "4                 NaN                 NaN  \n",
       "\n",
       "[5 rows x 80 columns]"
      ]
     },
     "execution_count": 7,
     "metadata": {},
     "output_type": "execute_result"
    }
   ],
   "source": [
    "data = pd.read_csv('Data/3-for SQL.csv')\n",
    "data.head()"
   ]
  },
  {
   "cell_type": "code",
   "execution_count": 19,
   "metadata": {},
   "outputs": [
    {
     "data": {
      "image/png": "[encoded data removed]",
      "text/plain": [
       "<Figure size 432x288 with 1 Axes>"
      ]
     },
     "metadata": {},
     "output_type": "display_data"
    },
    {
     "data": {
      "image/png": "[encoded data removed]",
      "text/plain": [
       "<Figure size 432x288 with 1 Axes>"
      ]
     },
     "metadata": {},
     "output_type": "display_data"
    }
   ],
   "source": [
    "plt.hist(data['Age'][data['Sex']=='M'],bins=50,);\n",
    "plt.show()\n",
    "plt.hist(data['Age'][data['Sex']=='F'],bins=50,color='r');\n",
    "plt.show()"
   ]
  },
  {
   "cell_type": "code",
   "execution_count": 28,
   "metadata": {},
   "outputs": [
    {
     "data": {
      "image/png": "[encoded data removed]",
      "text/plain": [
       "<Figure size 432x288 with 1 Axes>"
      ]
     },
     "metadata": {},
     "output_type": "display_data"
    }
   ],
   "source": [
    "#plt.boxplot(data['Age'],);\n",
    "data2 = [data['Age'], data['Age'][data['Sex']=='M'], data['Age'][data['Sex']=='F']]\n",
    "fig7, ax7 = plt.subplots()\n",
    "ax7.set_title('All, Men, Women')\n",
    "ax7.boxplot(data2)\n",
    "\n",
    "plt.show()"
   ]
  },
  {
   "cell_type": "code",
   "execution_count": 32,
   "metadata": {},
   "outputs": [
    {
     "data": {
      "text/plain": [
       "<matplotlib.axes._subplots.AxesSubplot at 0x5c02cb69b0>"
      ]
     },
     "execution_count": 32,
     "metadata": {},
     "output_type": "execute_result"
    },
    {
     "data": {
      "image/png": "[encoded data removed]",
      "text/plain": [
       "<Figure size 432x288 with 1 Axes>"
      ]
     },
     "metadata": {},
     "output_type": "display_data"
    }
   ],
   "source": [
    "sns.boxplot(data['Age'])"
   ]
  },
  {
   "cell_type": "code",
   "execution_count": null,
   "metadata": {},
   "outputs": [],
   "source": []
  },
  {
   "cell_type": "code",
   "execution_count": null,
   "metadata": {},
   "outputs": [],
   "source": []
  }
 ],
 "metadata": {
  "kernelspec": {
   "display_name": "Python 3",
   "language": "python",
   "name": "python3"
  },
  "language_info": {
   "codemirror_mode": {
    "name": "ipython",
    "version": 3
   },
   "file_extension": ".py",
   "mimetype": "text/x-python",
   "name": "python",
   "nbconvert_exporter": "python",
   "pygments_lexer": "ipython3",
   "version": "3.6.5"
  }
 },
 "nbformat": 4,
 "nbformat_minor": 2
}
