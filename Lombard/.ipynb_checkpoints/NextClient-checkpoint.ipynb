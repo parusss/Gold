{
 "cells": [
  {
   "cell_type": "code",
   "execution_count": 1,
   "metadata": {},
   "outputs": [
    {
     "name": "stderr",
     "output_type": "stream",
     "text": [
      "C:\\ProgramData\\Anaconda3\\lib\\site-packages\\sklearn\\cross_validation.py:41: DeprecationWarning: This module was deprecated in version 0.18 in favor of the model_selection module into which all the refactored classes and functions are moved. Also note that the interface of the new CV iterators are different from that of this module. This module will be removed in 0.20.\n",
      "  \"This module will be removed in 0.20.\", DeprecationWarning)\n",
      "C:\\ProgramData\\Anaconda3\\lib\\site-packages\\sklearn\\grid_search.py:42: DeprecationWarning: This module was deprecated in version 0.18 in favor of the model_selection module into which all the refactored classes and functions are moved. This module will be removed in 0.20.\n",
      "  DeprecationWarning)\n",
      "C:\\ProgramData\\Anaconda3\\lib\\site-packages\\sklearn\\learning_curve.py:22: DeprecationWarning: This module was deprecated in version 0.18 in favor of the model_selection module into which all the functions are moved. This module will be removed in 0.20\n",
      "  DeprecationWarning)\n"
     ]
    },
    {
     "name": "stdout",
     "output_type": "stream",
     "text": [
      "Populating the interactive namespace from numpy and matplotlib\n"
     ]
    },
    {
     "data": {
      "text/html": [
       "<style>.container{width:90% !important;}</style>"
      ],
      "text/plain": [
       "<IPython.core.display.HTML object>"
      ]
     },
     "metadata": {},
     "output_type": "display_data"
    }
   ],
   "source": [
    "import numpy as np; import pandas as pd; import pyodbc; import datetime; import sklearn; import os; import math\n",
    "from sklearn import feature_selection, linear_model, grid_search, cross_validation, metrics, ensemble, learning_curve \n",
    "from sklearn.preprocessing import scale\n",
    "import seaborn as sns\n",
    "from sklearn.manifold import TSNE\n",
    "import pickle\n",
    "import xgboost as xgb\n",
    "from sklearn.feature_selection import chi2, f_classif, SelectKBest\n",
    "from sklearn.preprocessing import StandardScaler\n",
    "%pylab inline \n",
    "import sys\n",
    "import warnings\n",
    "conn = pyodbc.connect(r'DRIVER={SQL Server Native Client 11.0};'r'SERVER=WIN-5G5AUOCEJPK;'r'DATABASE=Gold585;'r'Trusted_Connection=yes;')\n",
    "\n",
    "if not sys.warnoptions:\n",
    "    warnings.simplefilter(\"ignore\")\n",
    "    \n",
    "from IPython.core.display import display,HTML\n",
    "\n",
    "display(HTML(\"<style>.container{width:90% !important;}</style>\"))"
   ]
  },
  {
   "cell_type": "code",
   "execution_count": 13,
   "metadata": {},
   "outputs": [],
   "source": [
    "sql_query = \"SELECT Code, \\\n",
    "      [PartnerID] \\\n",
    "      ,IIf([Sex]='M',1,IIf([Sex]='F',0,NULL)) Sex \\\n",
    "      ,Age,CreditCondition,LombardRating,SumAmountzb,AVGAmountzb,ZB,Good,PercentGood,QntNew,QntPerez,QntOSN,QntBuyUp,AVGDneyZaloga,AVGDneySProshZB,AVGWeightGross,AVGCostPerGram,AVGCost,AVGPercentPerDay,MINPercentPerDay,MAXPercentPerDay,OverPayAmount,BudetSledVisit3M,BudetSledVisit6M,BudetSledVisit12M \\\n",
    "  FROM [Gold585].[dbo].[CommonTable] \\\n",
    "  Where IssueDate > convert(datetime,'2015-01-01') and IssueDate < convert(datetime,'2018-06-01') and Category in ('Новая cсуда')\"\n",
    "data = pd.read_sql(sql_query,conn)"
   ]
  },
  {
   "cell_type": "code",
   "execution_count": 14,
   "metadata": {},
   "outputs": [
    {
     "data": {
      "text/html": [
       "<div>\n",
       "<style scoped>\n",
       "    .dataframe tbody tr th:only-of-type {\n",
       "        vertical-align: middle;\n",
       "    }\n",
       "\n",
       "    .dataframe tbody tr th {\n",
       "        vertical-align: top;\n",
       "    }\n",
       "\n",
       "    .dataframe thead th {\n",
       "        text-align: right;\n",
       "    }\n",
       "</style>\n",
       "<table border=\"1\" class=\"dataframe\">\n",
       "  <thead>\n",
       "    <tr style=\"text-align: right;\">\n",
       "      <th></th>\n",
       "      <th>Code</th>\n",
       "      <th>PartnerID</th>\n",
       "      <th>Sex</th>\n",
       "      <th>Age</th>\n",
       "      <th>CreditCondition</th>\n",
       "      <th>LombardRating</th>\n",
       "      <th>SumAmountzb</th>\n",
       "      <th>AVGAmountzb</th>\n",
       "      <th>ZB</th>\n",
       "      <th>Good</th>\n",
       "      <th>...</th>\n",
       "      <th>AVGWeightGross</th>\n",
       "      <th>AVGCostPerGram</th>\n",
       "      <th>AVGCost</th>\n",
       "      <th>AVGPercentPerDay</th>\n",
       "      <th>MINPercentPerDay</th>\n",
       "      <th>MAXPercentPerDay</th>\n",
       "      <th>OverPayAmount</th>\n",
       "      <th>BudetSledVisit3M</th>\n",
       "      <th>BudetSledVisit6M</th>\n",
       "      <th>BudetSledVisit12M</th>\n",
       "    </tr>\n",
       "  </thead>\n",
       "  <tbody>\n",
       "    <tr>\n",
       "      <th>0</th>\n",
       "      <td>930002411764</td>\n",
       "      <td>97729</td>\n",
       "      <td>0.0</td>\n",
       "      <td>52</td>\n",
       "      <td>3</td>\n",
       "      <td>0</td>\n",
       "      <td>38690.0</td>\n",
       "      <td>2418.125000</td>\n",
       "      <td>16</td>\n",
       "      <td>16</td>\n",
       "      <td>...</td>\n",
       "      <td>2.8600</td>\n",
       "      <td>848.755310</td>\n",
       "      <td>2391.050049</td>\n",
       "      <td>0.3212</td>\n",
       "      <td>0.24</td>\n",
       "      <td>0.4</td>\n",
       "      <td>0.0</td>\n",
       "      <td>1</td>\n",
       "      <td>1</td>\n",
       "      <td>1</td>\n",
       "    </tr>\n",
       "    <tr>\n",
       "      <th>1</th>\n",
       "      <td>930004127840</td>\n",
       "      <td>97729</td>\n",
       "      <td>0.0</td>\n",
       "      <td>53</td>\n",
       "      <td>3</td>\n",
       "      <td>0</td>\n",
       "      <td>70387.0</td>\n",
       "      <td>3519.350098</td>\n",
       "      <td>20</td>\n",
       "      <td>19</td>\n",
       "      <td>...</td>\n",
       "      <td>3.6790</td>\n",
       "      <td>919.034790</td>\n",
       "      <td>3544.540039</td>\n",
       "      <td>0.3295</td>\n",
       "      <td>0.24</td>\n",
       "      <td>0.4</td>\n",
       "      <td>0.0</td>\n",
       "      <td>1</td>\n",
       "      <td>1</td>\n",
       "      <td>1</td>\n",
       "    </tr>\n",
       "    <tr>\n",
       "      <th>2</th>\n",
       "      <td>620000564686</td>\n",
       "      <td>97729</td>\n",
       "      <td>0.0</td>\n",
       "      <td>54</td>\n",
       "      <td>2</td>\n",
       "      <td>0</td>\n",
       "      <td>112187.0</td>\n",
       "      <td>4674.458496</td>\n",
       "      <td>24</td>\n",
       "      <td>23</td>\n",
       "      <td>...</td>\n",
       "      <td>4.4504</td>\n",
       "      <td>963.996887</td>\n",
       "      <td>4699.408203</td>\n",
       "      <td>0.3304</td>\n",
       "      <td>0.24</td>\n",
       "      <td>0.4</td>\n",
       "      <td>0.0</td>\n",
       "      <td>1</td>\n",
       "      <td>1</td>\n",
       "      <td>1</td>\n",
       "    </tr>\n",
       "    <tr>\n",
       "      <th>3</th>\n",
       "      <td>620000942404</td>\n",
       "      <td>97729</td>\n",
       "      <td>0.0</td>\n",
       "      <td>54</td>\n",
       "      <td>2</td>\n",
       "      <td>0</td>\n",
       "      <td>126007.0</td>\n",
       "      <td>4500.250000</td>\n",
       "      <td>28</td>\n",
       "      <td>27</td>\n",
       "      <td>...</td>\n",
       "      <td>4.1864</td>\n",
       "      <td>1019.464294</td>\n",
       "      <td>4525.957031</td>\n",
       "      <td>0.3332</td>\n",
       "      <td>0.24</td>\n",
       "      <td>0.4</td>\n",
       "      <td>0.0</td>\n",
       "      <td>1</td>\n",
       "      <td>1</td>\n",
       "      <td>1</td>\n",
       "    </tr>\n",
       "    <tr>\n",
       "      <th>4</th>\n",
       "      <td>620001148804</td>\n",
       "      <td>97729</td>\n",
       "      <td>0.0</td>\n",
       "      <td>54</td>\n",
       "      <td>3</td>\n",
       "      <td>0</td>\n",
       "      <td>153867.0</td>\n",
       "      <td>4808.343750</td>\n",
       "      <td>32</td>\n",
       "      <td>30</td>\n",
       "      <td>...</td>\n",
       "      <td>4.3140</td>\n",
       "      <td>1063.169312</td>\n",
       "      <td>4832.493652</td>\n",
       "      <td>0.3331</td>\n",
       "      <td>0.24</td>\n",
       "      <td>0.4</td>\n",
       "      <td>0.0</td>\n",
       "      <td>1</td>\n",
       "      <td>1</td>\n",
       "      <td>1</td>\n",
       "    </tr>\n",
       "  </tbody>\n",
       "</table>\n",
       "<p>5 rows × 27 columns</p>\n",
       "</div>"
      ],
      "text/plain": [
       "           Code  PartnerID  Sex  Age  CreditCondition  LombardRating  \\\n",
       "0  930002411764      97729  0.0   52                3              0   \n",
       "1  930004127840      97729  0.0   53                3              0   \n",
       "2  620000564686      97729  0.0   54                2              0   \n",
       "3  620000942404      97729  0.0   54                2              0   \n",
       "4  620001148804      97729  0.0   54                3              0   \n",
       "\n",
       "   SumAmountzb  AVGAmountzb  ZB  Good        ...          AVGWeightGross  \\\n",
       "0      38690.0  2418.125000  16    16        ...                  2.8600   \n",
       "1      70387.0  3519.350098  20    19        ...                  3.6790   \n",
       "2     112187.0  4674.458496  24    23        ...                  4.4504   \n",
       "3     126007.0  4500.250000  28    27        ...                  4.1864   \n",
       "4     153867.0  4808.343750  32    30        ...                  4.3140   \n",
       "\n",
       "   AVGCostPerGram      AVGCost  AVGPercentPerDay  MINPercentPerDay  \\\n",
       "0      848.755310  2391.050049            0.3212              0.24   \n",
       "1      919.034790  3544.540039            0.3295              0.24   \n",
       "2      963.996887  4699.408203            0.3304              0.24   \n",
       "3     1019.464294  4525.957031            0.3332              0.24   \n",
       "4     1063.169312  4832.493652            0.3331              0.24   \n",
       "\n",
       "   MAXPercentPerDay  OverPayAmount  BudetSledVisit3M  BudetSledVisit6M  \\\n",
       "0               0.4            0.0                 1                 1   \n",
       "1               0.4            0.0                 1                 1   \n",
       "2               0.4            0.0                 1                 1   \n",
       "3               0.4            0.0                 1                 1   \n",
       "4               0.4            0.0                 1                 1   \n",
       "\n",
       "   BudetSledVisit12M  \n",
       "0                  1  \n",
       "1                  1  \n",
       "2                  1  \n",
       "3                  1  \n",
       "4                  1  \n",
       "\n",
       "[5 rows x 27 columns]"
      ]
     },
     "execution_count": 14,
     "metadata": {},
     "output_type": "execute_result"
    }
   ],
   "source": [
    "data.head()"
   ]
  },
  {
   "cell_type": "code",
   "execution_count": 15,
   "metadata": {},
   "outputs": [
    {
     "data": {
      "text/plain": [
       "(2330990, 27)"
      ]
     },
     "execution_count": 15,
     "metadata": {},
     "output_type": "execute_result"
    }
   ],
   "source": [
    "data.shape"
   ]
  },
  {
   "cell_type": "code",
   "execution_count": 18,
   "metadata": {},
   "outputs": [],
   "source": [
    "df = data.sample(100000,axis=0).fillna(0)"
   ]
  },
  {
   "cell_type": "code",
   "execution_count": 20,
   "metadata": {},
   "outputs": [],
   "source": [
    "target=df.drop(['Code','PartnerID','BudetSledVisit3M','BudetSledVisit6M','BudetSledVisit12M'], axis=1)"
   ]
  },
  {
   "cell_type": "code",
   "execution_count": 21,
   "metadata": {},
   "outputs": [],
   "source": [
    "X = StandardScaler().fit_transform(target)"
   ]
  },
  {
   "cell_type": "code",
   "execution_count": 22,
   "metadata": {},
   "outputs": [],
   "source": [
    "import numpy as np\n",
    "from sklearn.metrics.pairwise import pairwise_distances\n",
    "from sklearn.utils import check_X_y\n",
    "from sklearn.preprocessing import LabelEncoder\n",
    "from sklearn.metrics.cluster.unsupervised import check_number_of_labels\n",
    "\n",
    "def silhouette_samples_memory_saving(X, labels, metric='euclidean', **kwds):\n",
    "    X, labels = check_X_y(X, labels, accept_sparse=['csc', 'csr'])\n",
    "    le = LabelEncoder()\n",
    "    labels = le.fit_transform(labels)\n",
    "    check_number_of_labels(len(le.classes_), X.shape[0])\n",
    "\n",
    "    unique_labels = le.classes_\n",
    "    n_samples_per_label = np.bincount(labels, minlength=len(unique_labels))\n",
    "\n",
    "    # For sample i, store the mean distance of the cluster to which\n",
    "    # it belongs in intra_clust_dists[i]\n",
    "    intra_clust_dists = np.zeros(X.shape[0], dtype=X.dtype)\n",
    "\n",
    "    # For sample i, store the mean distance of the second closest\n",
    "    # cluster in inter_clust_dists[i]\n",
    "    inter_clust_dists = np.inf + intra_clust_dists\n",
    "\n",
    "    for curr_label in range(len(unique_labels)):\n",
    "\n",
    "        # Find inter_clust_dist for all samples belonging to the same\n",
    "        # label.\n",
    "        mask = labels == curr_label\n",
    "\n",
    "        # Leave out current sample.\n",
    "        n_samples_curr_lab = n_samples_per_label[curr_label] - 1\n",
    "        if n_samples_curr_lab != 0:\n",
    "            intra_distances = pairwise_distances(X[mask, :], metric=metric, **kwds)\n",
    "            intra_clust_dists[mask] = np.sum(intra_distances, axis=1) / n_samples_curr_lab\n",
    "\n",
    "        # Now iterate over all other labels, finding the mean\n",
    "        # cluster distance that is closest to every sample.\n",
    "        for other_label in range(len(unique_labels)):\n",
    "            if other_label != curr_label:\n",
    "                other_mask = labels == other_label\n",
    "                inter_distances = pairwise_distances(X[mask, :], X[other_mask, :], metric=metric, **kwds)\n",
    "                other_distances = np.mean(inter_distances, axis=1)\n",
    "                inter_clust_dists[mask] = np.minimum(inter_clust_dists[mask], other_distances)\n",
    "\n",
    "    sil_samples = inter_clust_dists - intra_clust_dists\n",
    "    sil_samples /= np.maximum(intra_clust_dists, inter_clust_dists)\n",
    "    # score 0 for clusters of size 1, according to the paper\n",
    "    sil_samples[n_samples_per_label.take(labels) == 1] = 0\n",
    "\n",
    "    return sil_samples"
   ]
  },
  {
   "cell_type": "code",
   "execution_count": null,
   "metadata": {},
   "outputs": [],
   "source": [
    "from sklearn.cluster import KMeans\n",
    "mas = []\n",
    "for k in range(2, 8):\n",
    "    kmeans = KMeans(n_clusters=k, random_state=1).fit(X)\n",
    "    labels = kmeans.predict(X)\n",
    "    mas.append(silhouette_samples_memory_saving(X, kmeans.labels_))\n",
    "    print((silhouette_samples_memory_saving(X, kmeans.labels_)))\n",
    "\n",
    "plt.plot(range(2, 8), mas, marker='s');\n",
    "plt.xlabel('$k$')\n",
    "plt.ylabel('$J(C_k)$');"
   ]
  },
  {
   "cell_type": "code",
   "execution_count": null,
   "metadata": {},
   "outputs": [],
   "source": []
  },
  {
   "cell_type": "code",
   "execution_count": null,
   "metadata": {},
   "outputs": [],
   "source": []
  },
  {
   "cell_type": "code",
   "execution_count": 6,
   "metadata": {},
   "outputs": [],
   "source": [
    "from scipy.cluster.hierarchy import linkage, dendrogram"
   ]
  },
  {
   "cell_type": "code",
   "execution_count": 13,
   "metadata": {
    "collapsed": true
   },
   "outputs": [
    {
     "ename": "MemoryError",
     "evalue": "",
     "output_type": "error",
     "traceback": [
      "\u001b[1;31m---------------------------------------------------------------------------\u001b[0m",
      "\u001b[1;31mMemoryError\u001b[0m                               Traceback (most recent call last)",
      "\u001b[1;32m<ipython-input-13-64f10b135f2f>\u001b[0m in \u001b[0;36m<module>\u001b[1;34m()\u001b[0m\n\u001b[0;32m      2\u001b[0m \u001b[1;33m\u001b[0m\u001b[0m\n\u001b[0;32m      3\u001b[0m \u001b[1;31m# Реализация иерархической кластеризации при помощи функции linkage\u001b[0m\u001b[1;33m\u001b[0m\u001b[1;33m\u001b[0m\u001b[0m\n\u001b[1;32m----> 4\u001b[1;33m \u001b[0mmergings\u001b[0m \u001b[1;33m=\u001b[0m \u001b[0mlinkage\u001b[0m\u001b[1;33m(\u001b[0m\u001b[0msamples\u001b[0m\u001b[1;33m,\u001b[0m \u001b[0mmethod\u001b[0m\u001b[1;33m=\u001b[0m\u001b[1;34m'complete'\u001b[0m\u001b[1;33m)\u001b[0m\u001b[1;33m\u001b[0m\u001b[0m\n\u001b[0m\u001b[0;32m      5\u001b[0m \u001b[1;33m\u001b[0m\u001b[0m\n\u001b[0;32m      6\u001b[0m \u001b[1;31m# Строим дендрограмму, указав параметры удобные для отображения\u001b[0m\u001b[1;33m\u001b[0m\u001b[1;33m\u001b[0m\u001b[0m\n",
      "\u001b[1;32mC:\\ProgramData\\Anaconda3\\lib\\site-packages\\scipy\\cluster\\hierarchy.py\u001b[0m in \u001b[0;36mlinkage\u001b[1;34m(y, method, metric, optimal_ordering)\u001b[0m\n\u001b[0;32m    706\u001b[0m                          \u001b[1;34m'matrix looks suspiciously like an uncondensed '\u001b[0m\u001b[1;33m\u001b[0m\u001b[0m\n\u001b[0;32m    707\u001b[0m                          'distance matrix')\n\u001b[1;32m--> 708\u001b[1;33m         \u001b[0my\u001b[0m \u001b[1;33m=\u001b[0m \u001b[0mdistance\u001b[0m\u001b[1;33m.\u001b[0m\u001b[0mpdist\u001b[0m\u001b[1;33m(\u001b[0m\u001b[0my\u001b[0m\u001b[1;33m,\u001b[0m \u001b[0mmetric\u001b[0m\u001b[1;33m)\u001b[0m\u001b[1;33m\u001b[0m\u001b[0m\n\u001b[0m\u001b[0;32m    709\u001b[0m     \u001b[1;32melse\u001b[0m\u001b[1;33m:\u001b[0m\u001b[1;33m\u001b[0m\u001b[0m\n\u001b[0;32m    710\u001b[0m         \u001b[1;32mraise\u001b[0m \u001b[0mValueError\u001b[0m\u001b[1;33m(\u001b[0m\u001b[1;34m\"`y` must be 1 or 2 dimensional.\"\u001b[0m\u001b[1;33m)\u001b[0m\u001b[1;33m\u001b[0m\u001b[0m\n",
      "\u001b[1;32mC:\\ProgramData\\Anaconda3\\lib\\site-packages\\scipy\\spatial\\distance.py\u001b[0m in \u001b[0;36mpdist\u001b[1;34m(X, metric, *args, **kwargs)\u001b[0m\n\u001b[0;32m   1875\u001b[0m     \u001b[0mout\u001b[0m \u001b[1;33m=\u001b[0m \u001b[0mkwargs\u001b[0m\u001b[1;33m.\u001b[0m\u001b[0mpop\u001b[0m\u001b[1;33m(\u001b[0m\u001b[1;34m\"out\"\u001b[0m\u001b[1;33m,\u001b[0m \u001b[1;32mNone\u001b[0m\u001b[1;33m)\u001b[0m\u001b[1;33m\u001b[0m\u001b[0m\n\u001b[0;32m   1876\u001b[0m     \u001b[1;32mif\u001b[0m \u001b[0mout\u001b[0m \u001b[1;32mis\u001b[0m \u001b[1;32mNone\u001b[0m\u001b[1;33m:\u001b[0m\u001b[1;33m\u001b[0m\u001b[0m\n\u001b[1;32m-> 1877\u001b[1;33m         \u001b[0mdm\u001b[0m \u001b[1;33m=\u001b[0m \u001b[0mnp\u001b[0m\u001b[1;33m.\u001b[0m\u001b[0mempty\u001b[0m\u001b[1;33m(\u001b[0m\u001b[1;33m(\u001b[0m\u001b[0mm\u001b[0m \u001b[1;33m*\u001b[0m \u001b[1;33m(\u001b[0m\u001b[0mm\u001b[0m \u001b[1;33m-\u001b[0m \u001b[1;36m1\u001b[0m\u001b[1;33m)\u001b[0m\u001b[1;33m)\u001b[0m \u001b[1;33m//\u001b[0m \u001b[1;36m2\u001b[0m\u001b[1;33m,\u001b[0m \u001b[0mdtype\u001b[0m\u001b[1;33m=\u001b[0m\u001b[0mnp\u001b[0m\u001b[1;33m.\u001b[0m\u001b[0mdouble\u001b[0m\u001b[1;33m)\u001b[0m\u001b[1;33m\u001b[0m\u001b[0m\n\u001b[0m\u001b[0;32m   1878\u001b[0m     \u001b[1;32melse\u001b[0m\u001b[1;33m:\u001b[0m\u001b[1;33m\u001b[0m\u001b[0m\n\u001b[0;32m   1879\u001b[0m         \u001b[1;32mif\u001b[0m \u001b[0mout\u001b[0m\u001b[1;33m.\u001b[0m\u001b[0mshape\u001b[0m \u001b[1;33m!=\u001b[0m \u001b[1;33m(\u001b[0m\u001b[0mm\u001b[0m \u001b[1;33m*\u001b[0m \u001b[1;33m(\u001b[0m\u001b[0mm\u001b[0m \u001b[1;33m-\u001b[0m \u001b[1;36m1\u001b[0m\u001b[1;33m)\u001b[0m \u001b[1;33m//\u001b[0m \u001b[1;36m2\u001b[0m\u001b[1;33m,\u001b[0m\u001b[1;33m)\u001b[0m\u001b[1;33m:\u001b[0m\u001b[1;33m\u001b[0m\u001b[0m\n",
      "\u001b[1;31mMemoryError\u001b[0m: "
     ]
    }
   ],
   "source": [
    "samples = X\n",
    " \n",
    "# Реализация иерархической кластеризации при помощи функции linkage\n",
    "mergings = linkage(samples, method='complete')\n",
    " \n",
    "# Строим дендрограмму, указав параметры удобные для отображения\n",
    "dendrogram(mergings,\n",
    "           labels=varieties,\n",
    "           leaf_rotation=90,\n",
    "           leaf_font_size=6,\n",
    "           )\n",
    " \n",
    "plt.show()"
   ]
  }
 ],
 "metadata": {
  "kernelspec": {
   "display_name": "Python 3",
   "language": "python",
   "name": "python3"
  },
  "language_info": {
   "codemirror_mode": {
    "name": "ipython",
    "version": 3
   },
   "file_extension": ".py",
   "mimetype": "text/x-python",
   "name": "python",
   "nbconvert_exporter": "python",
   "pygments_lexer": "ipython3",
   "version": "3.6.5"
  }
 },
 "nbformat": 4,
 "nbformat_minor": 2
}
