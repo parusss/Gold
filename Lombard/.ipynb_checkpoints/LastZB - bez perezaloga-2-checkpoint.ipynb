{
 "cells": [
  {
   "cell_type": "code",
   "execution_count": 1,
   "metadata": {},
   "outputs": [
    {
     "name": "stderr",
     "output_type": "stream",
     "text": [
      "C:\\ProgramData\\Anaconda3\\lib\\site-packages\\sklearn\\cross_validation.py:41: DeprecationWarning: This module was deprecated in version 0.18 in favor of the model_selection module into which all the refactored classes and functions are moved. Also note that the interface of the new CV iterators are different from that of this module. This module will be removed in 0.20.\n",
      "  \"This module will be removed in 0.20.\", DeprecationWarning)\n",
      "C:\\ProgramData\\Anaconda3\\lib\\site-packages\\sklearn\\grid_search.py:42: DeprecationWarning: This module was deprecated in version 0.18 in favor of the model_selection module into which all the refactored classes and functions are moved. This module will be removed in 0.20.\n",
      "  DeprecationWarning)\n",
      "C:\\ProgramData\\Anaconda3\\lib\\site-packages\\sklearn\\learning_curve.py:22: DeprecationWarning: This module was deprecated in version 0.18 in favor of the model_selection module into which all the functions are moved. This module will be removed in 0.20\n",
      "  DeprecationWarning)\n"
     ]
    },
    {
     "name": "stdout",
     "output_type": "stream",
     "text": [
      "Populating the interactive namespace from numpy and matplotlib\n"
     ]
    },
    {
     "data": {
      "text/html": [
       "<style>.container{width:90% !important;}</style>"
      ],
      "text/plain": [
       "<IPython.core.display.HTML object>"
      ]
     },
     "metadata": {},
     "output_type": "display_data"
    }
   ],
   "source": [
    "import numpy as np; import pandas as pd; import pyodbc; import datetime; import sklearn; import os; import math\n",
    "from sklearn import feature_selection, linear_model, grid_search, cross_validation, metrics, ensemble, learning_curve \n",
    "from sklearn.preprocessing import scale\n",
    "from sklearn.manifold import TSNE\n",
    "from sklearn.cluster import KMeans\n",
    "import pickle\n",
    "import xgboost as xgb\n",
    "from sklearn.feature_selection import chi2, f_classif, SelectKBest\n",
    "from sklearn.preprocessing import StandardScaler\n",
    "%pylab inline \n",
    "import sys\n",
    "import warnings\n",
    "\n",
    "if not sys.warnoptions:\n",
    "    warnings.simplefilter(\"ignore\")\n",
    "    \n",
    "from IPython.core.display import display,HTML\n",
    "display(HTML(\"<style>.container{width:90% !important;}</style>\"))\n",
    "\n",
    "conn = pyodbc.connect(r'DRIVER={SQL Server Native Client 11.0};'r'SERVER=WIN-5G5AUOCEJPK;'r'DATABASE=Gold585;'r'Trusted_Connection=yes;')\n"
   ]
  },
  {
   "cell_type": "code",
   "execution_count": 14,
   "metadata": {},
   "outputs": [],
   "source": [
    "#Отбираем ПОСЛЕДНИЕ залоговые билеты со статусом Новый залог за последний год\n",
    "sql_query = \"SELECT \\\n",
    "       [Code] \\\n",
    "      ,[IssueDate] \\\n",
    "      ,[PartnerID] \\\n",
    "      ,IIF([Sex]='M',1,0) SEX \\\n",
    "      ,[Age] \\\n",
    "      ,[DayFromLastVisit] \\\n",
    "      ,[CreditCondition] \\\n",
    "      ,[LifeTimeDay] \\\n",
    "      ,[LombardCategoryID] \\\n",
    "      ,[CityID] \\\n",
    "      ,[SumAmountzb] \\\n",
    "      ,[AVGAmountzb] \\\n",
    "      ,[ZB] \\\n",
    "      ,[PercentBad] \\\n",
    "      ,[PercentGood] \\\n",
    "      ,[PercentNewBySMS] \\\n",
    "      ,[PercentNew] \\\n",
    "      ,[PercentOSN] \\\n",
    "      ,[PercentSkupka] \\\n",
    "      ,[PercentPerezalog] \\\n",
    "      ,[MaxBadPercentPerDay] \\\n",
    "      ,[AVGBadPercentPerDay] \\\n",
    "      ,[MinGoodPercentPerDay] \\\n",
    "      ,[AVGGoodPercentPerDay] \\\n",
    "      ,[AVGDneyZaloga] \\\n",
    "      ,[AVGDneySProshZB] \\\n",
    "      ,[AVGWeightGross] \\\n",
    "      ,[AVGWeightNet] \\\n",
    "      ,[AVGWeightNet999] \\\n",
    "      ,[AVGWeightNotBrilliant] \\\n",
    "      ,[AVGCostPerGram] \\\n",
    "      ,[AVGCost] \\\n",
    "      ,[MaxCost] \\\n",
    "      ,[QntTreasury] \\\n",
    "      ,[AVGPercentPerDay] \\\n",
    "      ,[MINPercentPerDay] \\\n",
    "      ,[MAXPercentPerDay] \\\n",
    "      ,[QntPromo] \\\n",
    "      ,[PercentPromo] \\\n",
    "      ,[OverPayAmount] \\\n",
    "      ,[PercentAmount] \\\n",
    "      ,[BadPercentPerDay] \\\n",
    "      ,[GoodPercentPerDay] \\\n",
    "      ,[DayDiff] \\\n",
    "      ,[isGoodZB] \\\n",
    "      ,BudetSledVisit \\\n",
    "  FROM [Gold585].[dbo].[LombardCommon1ZB] a\\\n",
    "  Where IsOSN <2 \\\n",
    "  and IssueDate = (Select MAX(IssueDate) From [Gold585].[dbo].[LombardCommon1ZB] b \\\n",
    "  where a.PartnerID = b.PartnerID and b.IssueDate < convert(datetime,'2018-06-01') and b.IsNew = 1) \\\n",
    "  and IssueDate > convert(datetime,'2016-01-01')\"\n",
    "data = pd.read_sql(sql_query,conn)"
   ]
  },
  {
   "cell_type": "code",
   "execution_count": 15,
   "metadata": {},
   "outputs": [
    {
     "data": {
      "text/plain": [
       "(409833, 46)"
      ]
     },
     "execution_count": 15,
     "metadata": {},
     "output_type": "execute_result"
    }
   ],
   "source": [
    "data.shape"
   ]
  },
  {
   "cell_type": "code",
   "execution_count": 16,
   "metadata": {},
   "outputs": [
    {
     "data": {
      "text/plain": [
       "<matplotlib.collections.PathCollection at 0x59aeeb9128>"
      ]
     },
     "execution_count": 16,
     "metadata": {},
     "output_type": "execute_result"
    },
    {
     "data": {
      "image/png": "[encoded data removed]",
      "text/plain": [
       "<Figure size 1296x864 with 1 Axes>"
      ]
     },
     "metadata": {},
     "output_type": "display_data"
    }
   ],
   "source": [
    "df = data.fillna(0)\n",
    "df.reset_index(drop=True,inplace = True)\n",
    "target=df.drop(['Code','IssueDate','PartnerID','isGoodZB','BudetSledVisit'], axis=1)\n",
    "target = pd.get_dummies(target, columns = ['CityID','LombardCategoryID'])\n",
    "X = StandardScaler().fit_transform(target)\n",
    "\n",
    "from sklearn.decomposition import PCA\n",
    "# PCA\n",
    "pca = PCA(n_components=2) #HOW MANY AXIS DO WE WANT\n",
    "pca.fit_transform(X)\n",
    "targert2 = pca.transform(X)\n",
    "\n",
    "fig_size = plt.rcParams[\"figure.figsize\"]\n",
    "fig_size[0] = 18\n",
    "fig_size[1] = 12\n",
    "\n",
    "plt.scatter(targert2[:, 0], targert2[:, 1])"
   ]
  },
  {
   "cell_type": "code",
   "execution_count": 17,
   "metadata": {},
   "outputs": [],
   "source": [
    "import numpy as np\n",
    "from sklearn.metrics.pairwise import pairwise_distances\n",
    "from sklearn.utils import check_X_y\n",
    "from sklearn.preprocessing import LabelEncoder\n",
    "from sklearn.metrics.cluster.unsupervised import check_number_of_labels\n",
    "\n",
    "def silhouette_samples_memory_saving(X, labels, metric='euclidean', **kwds):\n",
    "    X, labels = check_X_y(X, labels, accept_sparse=['csc', 'csr'])\n",
    "    le = LabelEncoder()\n",
    "    labels = le.fit_transform(labels)\n",
    "    check_number_of_labels(len(le.classes_), X.shape[0])\n",
    "\n",
    "    unique_labels = le.classes_\n",
    "    n_samples_per_label = np.bincount(labels, minlength=len(unique_labels))\n",
    "\n",
    "    # For sample i, store the mean distance of the cluster to which\n",
    "    # it belongs in intra_clust_dists[i]\n",
    "    intra_clust_dists = np.zeros(X.shape[0], dtype=X.dtype)\n",
    "\n",
    "    # For sample i, store the mean distance of the second closest\n",
    "    # cluster in inter_clust_dists[i]\n",
    "    inter_clust_dists = np.inf + intra_clust_dists\n",
    "\n",
    "    for curr_label in range(len(unique_labels)):\n",
    "\n",
    "        # Find inter_clust_dist for all samples belonging to the same\n",
    "        # label.\n",
    "        mask = labels == curr_label\n",
    "\n",
    "        # Leave out current sample.\n",
    "        n_samples_curr_lab = n_samples_per_label[curr_label] - 1\n",
    "        if n_samples_curr_lab != 0:\n",
    "            intra_distances = pairwise_distances(X[mask, :], metric=metric, **kwds)\n",
    "            intra_clust_dists[mask] = np.sum(intra_distances, axis=1) / n_samples_curr_lab\n",
    "\n",
    "        # Now iterate over all other labels, finding the mean\n",
    "        # cluster distance that is closest to every sample.\n",
    "        for other_label in range(len(unique_labels)):\n",
    "            if other_label != curr_label:\n",
    "                other_mask = labels == other_label\n",
    "                inter_distances = pairwise_distances(X[mask, :], X[other_mask, :], metric=metric, **kwds)\n",
    "                other_distances = np.mean(inter_distances, axis=1)\n",
    "                inter_clust_dists[mask] = np.minimum(inter_clust_dists[mask], other_distances)\n",
    "\n",
    "    sil_samples = inter_clust_dists - intra_clust_dists\n",
    "    sil_samples /= np.maximum(intra_clust_dists, inter_clust_dists)\n",
    "    # score 0 for clusters of size 1, according to the paper\n",
    "    sil_samples[n_samples_per_label.take(labels) == 1] = 0\n",
    "\n",
    "    return np.mean(sil_samples)"
   ]
  },
  {
   "cell_type": "code",
   "execution_count": null,
   "metadata": {},
   "outputs": [],
   "source": [
    "# с процентами новых и ОСН\n",
    "from sklearn.metrics import silhouette_score\n",
    "mas = []\n",
    "for k in range(2, 15):\n",
    "    kmeans = KMeans(n_clusters=k, random_state=1,n_jobs=-1).fit(X)\n",
    "    labels = kmeans.predict(X)\n",
    "    a= silhouette_samples_memory_saving(X, kmeans.labels_)\n",
    "    #a= silhouette_score(X, kmeans.labels_)\n",
    "    mas.append(a)\n",
    "    print(a)\n",
    "\n",
    "plt.plot(range(2, 15), mas, marker='s');\n",
    "plt.xlabel('$k$')\n",
    "plt.ylabel('$J(C_k)$');\n",
    "\n",
    "# Оптимальное количество кластеров 10"
   ]
  },
  {
   "cell_type": "code",
   "execution_count": null,
   "metadata": {},
   "outputs": [],
   "source": []
  },
  {
   "cell_type": "code",
   "execution_count": null,
   "metadata": {},
   "outputs": [],
   "source": []
  },
  {
   "cell_type": "code",
   "execution_count": null,
   "metadata": {},
   "outputs": [],
   "source": []
  }
 ],
 "metadata": {
  "kernelspec": {
   "display_name": "Python 3",
   "language": "python",
   "name": "python3"
  },
  "language_info": {
   "codemirror_mode": {
    "name": "ipython",
    "version": 3
   },
   "file_extension": ".py",
   "mimetype": "text/x-python",
   "name": "python",
   "nbconvert_exporter": "python",
   "pygments_lexer": "ipython3",
   "version": "3.6.5"
  }
 },
 "nbformat": 4,
 "nbformat_minor": 2
}
